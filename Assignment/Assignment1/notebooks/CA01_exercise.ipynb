{
 "cells": [
  {
   "cell_type": "markdown",
   "metadata": {},
   "source": [
    "# Compulsory Assignment 1 - Pandas and visualizations"
   ]
  },
  {
   "cell_type": "markdown",
   "metadata": {},
   "source": [
    "## Name : Talha Naveed\n",
    "## Email : talha.naveed@nmbu.no"
   ]
  },
  {
   "cell_type": "markdown",
   "metadata": {},
   "source": [
    "## Imports"
   ]
  },
  {
   "cell_type": "code",
   "execution_count": 1,
   "metadata": {
    "ExecuteTime": {
     "end_time": "2021-01-05T08:54:36.690269Z",
     "start_time": "2021-01-05T08:54:35.984178Z"
    }
   },
   "outputs": [],
   "source": [
    "import pandas as pd\n",
    "import numpy as np\n",
    "import seaborn as sns\n",
    "from matplotlib import pyplot as plt\n",
    "from copy import copy"
   ]
  },
  {
   "cell_type": "markdown",
   "metadata": {},
   "source": [
    "---\n",
    "## Loading and exploring the dataset"
   ]
  },
  {
   "cell_type": "markdown",
   "metadata": {},
   "source": [
    "__1. Load the dataset named `videogames.csv` and store it in a dataframe called `raw_df`__"
   ]
  },
  {
   "cell_type": "code",
   "execution_count": 2,
   "metadata": {
    "ExecuteTime": {
     "end_time": "2021-01-07T12:50:22.322751Z",
     "start_time": "2021-01-07T12:50:22.320295Z"
    }
   },
   "outputs": [],
   "source": [
    "# Insert your code below\n",
    "# ======================\n",
    "raw_df = pd.read_csv('../assets/videogames.csv')"
   ]
  },
  {
   "cell_type": "markdown",
   "metadata": {},
   "source": [
    "__2. Print the first `five` rows of the dataframe__"
   ]
  },
  {
   "cell_type": "code",
   "execution_count": 3,
   "metadata": {
    "ExecuteTime": {
     "end_time": "2021-01-07T12:50:23.855936Z",
     "start_time": "2021-01-07T12:50:23.852994Z"
    }
   },
   "outputs": [
    {
     "name": "stdout",
     "output_type": "stream",
     "text": [
      "                       name platform    year       genre  \\\n",
      "0  Imagine: Fashion Stylist       DS  2010.0  Simulation   \n",
      "1       Monsters vs. Aliens      Wii  2009.0      Action   \n",
      "2               LEGO Racers       PS  1999.0      Racing   \n",
      "3              The X-Factor      PS3  2010.0        Misc   \n",
      "4           Houkago Shounen       DS  2008.0        Misc   \n",
      "\n",
      "                      publisher  north_america_sales  europe_sales  \\\n",
      "0                       Ubisoft                 0.13          0.00   \n",
      "1                    Activision                 0.14          0.09   \n",
      "2                    LEGO Media                 0.20          0.14   \n",
      "3                   Deep Silver                 0.00          0.10   \n",
      "4  Konami Digital Entertainment                 0.00          0.00   \n",
      "\n",
      "   japan_sales  global_sales  \n",
      "0         0.00          0.14  \n",
      "1         0.00          0.26  \n",
      "2         0.00          0.36  \n",
      "3         0.00          0.14  \n",
      "4         0.05          0.05  \n"
     ]
    }
   ],
   "source": [
    "# Insert your code below\n",
    "# ======================\n",
    "print (raw_df.head(5))"
   ]
  },
  {
   "cell_type": "code",
   "execution_count": 4,
   "metadata": {},
   "outputs": [
    {
     "data": {
      "text/html": [
       "<div>\n",
       "<style scoped>\n",
       "    .dataframe tbody tr th:only-of-type {\n",
       "        vertical-align: middle;\n",
       "    }\n",
       "\n",
       "    .dataframe tbody tr th {\n",
       "        vertical-align: top;\n",
       "    }\n",
       "\n",
       "    .dataframe thead th {\n",
       "        text-align: right;\n",
       "    }\n",
       "</style>\n",
       "<table border=\"1\" class=\"dataframe\">\n",
       "  <thead>\n",
       "    <tr style=\"text-align: right;\">\n",
       "      <th></th>\n",
       "      <th>name</th>\n",
       "      <th>platform</th>\n",
       "      <th>year</th>\n",
       "      <th>genre</th>\n",
       "      <th>publisher</th>\n",
       "      <th>north_america_sales</th>\n",
       "      <th>europe_sales</th>\n",
       "      <th>japan_sales</th>\n",
       "      <th>global_sales</th>\n",
       "    </tr>\n",
       "  </thead>\n",
       "  <tbody>\n",
       "    <tr>\n",
       "      <th>0</th>\n",
       "      <td>Imagine: Fashion Stylist</td>\n",
       "      <td>DS</td>\n",
       "      <td>2010.0</td>\n",
       "      <td>Simulation</td>\n",
       "      <td>Ubisoft</td>\n",
       "      <td>0.13</td>\n",
       "      <td>0.00</td>\n",
       "      <td>0.00</td>\n",
       "      <td>0.14</td>\n",
       "    </tr>\n",
       "    <tr>\n",
       "      <th>1</th>\n",
       "      <td>Monsters vs. Aliens</td>\n",
       "      <td>Wii</td>\n",
       "      <td>2009.0</td>\n",
       "      <td>Action</td>\n",
       "      <td>Activision</td>\n",
       "      <td>0.14</td>\n",
       "      <td>0.09</td>\n",
       "      <td>0.00</td>\n",
       "      <td>0.26</td>\n",
       "    </tr>\n",
       "    <tr>\n",
       "      <th>2</th>\n",
       "      <td>LEGO Racers</td>\n",
       "      <td>PS</td>\n",
       "      <td>1999.0</td>\n",
       "      <td>Racing</td>\n",
       "      <td>LEGO Media</td>\n",
       "      <td>0.20</td>\n",
       "      <td>0.14</td>\n",
       "      <td>0.00</td>\n",
       "      <td>0.36</td>\n",
       "    </tr>\n",
       "    <tr>\n",
       "      <th>3</th>\n",
       "      <td>The X-Factor</td>\n",
       "      <td>PS3</td>\n",
       "      <td>2010.0</td>\n",
       "      <td>Misc</td>\n",
       "      <td>Deep Silver</td>\n",
       "      <td>0.00</td>\n",
       "      <td>0.10</td>\n",
       "      <td>0.00</td>\n",
       "      <td>0.14</td>\n",
       "    </tr>\n",
       "    <tr>\n",
       "      <th>4</th>\n",
       "      <td>Houkago Shounen</td>\n",
       "      <td>DS</td>\n",
       "      <td>2008.0</td>\n",
       "      <td>Misc</td>\n",
       "      <td>Konami Digital Entertainment</td>\n",
       "      <td>0.00</td>\n",
       "      <td>0.00</td>\n",
       "      <td>0.05</td>\n",
       "      <td>0.05</td>\n",
       "    </tr>\n",
       "  </tbody>\n",
       "</table>\n",
       "</div>"
      ],
      "text/plain": [
       "                       name platform    year       genre  \\\n",
       "0  Imagine: Fashion Stylist       DS  2010.0  Simulation   \n",
       "1       Monsters vs. Aliens      Wii  2009.0      Action   \n",
       "2               LEGO Racers       PS  1999.0      Racing   \n",
       "3              The X-Factor      PS3  2010.0        Misc   \n",
       "4           Houkago Shounen       DS  2008.0        Misc   \n",
       "\n",
       "                      publisher  north_america_sales  europe_sales  \\\n",
       "0                       Ubisoft                 0.13          0.00   \n",
       "1                    Activision                 0.14          0.09   \n",
       "2                    LEGO Media                 0.20          0.14   \n",
       "3                   Deep Silver                 0.00          0.10   \n",
       "4  Konami Digital Entertainment                 0.00          0.00   \n",
       "\n",
       "   japan_sales  global_sales  \n",
       "0         0.00          0.14  \n",
       "1         0.00          0.26  \n",
       "2         0.00          0.36  \n",
       "3         0.00          0.14  \n",
       "4         0.05          0.05  "
      ]
     },
     "execution_count": 4,
     "metadata": {},
     "output_type": "execute_result"
    }
   ],
   "source": [
    "raw_df.head(5)"
   ]
  },
  {
   "cell_type": "markdown",
   "metadata": {},
   "source": [
    "__3. How many unique values exist in each of the columns `genre` and `publisher`?__"
   ]
  },
  {
   "cell_type": "code",
   "execution_count": 5,
   "metadata": {
    "ExecuteTime": {
     "end_time": "2021-01-07T12:50:25.742120Z",
     "start_time": "2021-01-07T12:50:25.738880Z"
    }
   },
   "outputs": [
    {
     "name": "stdout",
     "output_type": "stream",
     "text": [
      "No. of Unique Genre = 12\n",
      "No. of Unique Publishers = 486\n"
     ]
    }
   ],
   "source": [
    "# Insert your code below\n",
    "# ======================\n",
    "unique_genre = raw_df.genre.nunique()\n",
    "unique_publisher = raw_df.publisher.nunique()\n",
    "print (\"No. of Unique Genre = \" + str(unique_genre))\n",
    "print (\"No. of Unique Publishers = \" + str(unique_publisher))"
   ]
  },
  {
   "cell_type": "markdown",
   "metadata": {},
   "source": [
    "__4. Identify missing (NaN) values in the dataset__"
   ]
  },
  {
   "cell_type": "code",
   "execution_count": 6,
   "metadata": {
    "ExecuteTime": {
     "end_time": "2021-01-07T12:50:27.808635Z",
     "start_time": "2021-01-07T12:50:27.804298Z"
    }
   },
   "outputs": [
    {
     "data": {
      "text/plain": [
       "name                    0\n",
       "platform                0\n",
       "year                    0\n",
       "genre                   0\n",
       "publisher              27\n",
       "north_america_sales     0\n",
       "europe_sales            0\n",
       "japan_sales             0\n",
       "global_sales            0\n",
       "dtype: int64"
      ]
     },
     "execution_count": 6,
     "metadata": {},
     "output_type": "execute_result"
    }
   ],
   "source": [
    "# Insert your code below\n",
    "# ======================\n",
    "raw_df.isnull().sum()"
   ]
  },
  {
   "cell_type": "code",
   "execution_count": 7,
   "metadata": {},
   "outputs": [
    {
     "name": "stdout",
     "output_type": "stream",
     "text": [
      "All Rows with Nulls\n"
     ]
    },
    {
     "data": {
      "text/html": [
       "<div>\n",
       "<style scoped>\n",
       "    .dataframe tbody tr th:only-of-type {\n",
       "        vertical-align: middle;\n",
       "    }\n",
       "\n",
       "    .dataframe tbody tr th {\n",
       "        vertical-align: top;\n",
       "    }\n",
       "\n",
       "    .dataframe thead th {\n",
       "        text-align: right;\n",
       "    }\n",
       "</style>\n",
       "<table border=\"1\" class=\"dataframe\">\n",
       "  <thead>\n",
       "    <tr style=\"text-align: right;\">\n",
       "      <th></th>\n",
       "      <th>name</th>\n",
       "      <th>platform</th>\n",
       "      <th>year</th>\n",
       "      <th>genre</th>\n",
       "      <th>publisher</th>\n",
       "      <th>north_america_sales</th>\n",
       "      <th>europe_sales</th>\n",
       "      <th>japan_sales</th>\n",
       "      <th>global_sales</th>\n",
       "    </tr>\n",
       "  </thead>\n",
       "  <tbody>\n",
       "    <tr>\n",
       "      <th>159</th>\n",
       "      <td>SpongeBob SquarePants: Game Boy Advance Video ...</td>\n",
       "      <td>GBA</td>\n",
       "      <td>2004.0</td>\n",
       "      <td>Misc</td>\n",
       "      <td>NaN</td>\n",
       "      <td>0.15</td>\n",
       "      <td>0.05</td>\n",
       "      <td>0.0</td>\n",
       "      <td>0.21</td>\n",
       "    </tr>\n",
       "    <tr>\n",
       "      <th>173</th>\n",
       "      <td>Nicktoons Collection: Game Boy Advance Video V...</td>\n",
       "      <td>GBA</td>\n",
       "      <td>2005.0</td>\n",
       "      <td>Misc</td>\n",
       "      <td>NaN</td>\n",
       "      <td>0.01</td>\n",
       "      <td>0.01</td>\n",
       "      <td>0.0</td>\n",
       "      <td>0.02</td>\n",
       "    </tr>\n",
       "    <tr>\n",
       "      <th>370</th>\n",
       "      <td>The Fairly Odd Parents: Game Boy Advance Video...</td>\n",
       "      <td>GBA</td>\n",
       "      <td>2004.0</td>\n",
       "      <td>Misc</td>\n",
       "      <td>NaN</td>\n",
       "      <td>0.31</td>\n",
       "      <td>0.11</td>\n",
       "      <td>0.0</td>\n",
       "      <td>0.43</td>\n",
       "    </tr>\n",
       "    <tr>\n",
       "      <th>1359</th>\n",
       "      <td>Cartoon Network Collection: Game Boy Advance V...</td>\n",
       "      <td>GBA</td>\n",
       "      <td>2004.0</td>\n",
       "      <td>Misc</td>\n",
       "      <td>NaN</td>\n",
       "      <td>0.18</td>\n",
       "      <td>0.07</td>\n",
       "      <td>0.0</td>\n",
       "      <td>0.25</td>\n",
       "    </tr>\n",
       "    <tr>\n",
       "      <th>2075</th>\n",
       "      <td>Nicktoons Collection: Game Boy Advance Video V...</td>\n",
       "      <td>GBA</td>\n",
       "      <td>2004.0</td>\n",
       "      <td>Misc</td>\n",
       "      <td>NaN</td>\n",
       "      <td>0.46</td>\n",
       "      <td>0.17</td>\n",
       "      <td>0.0</td>\n",
       "      <td>0.64</td>\n",
       "    </tr>\n",
       "    <tr>\n",
       "      <th>2211</th>\n",
       "      <td>Cartoon Network Collection: Game Boy Advance V...</td>\n",
       "      <td>GBA</td>\n",
       "      <td>2004.0</td>\n",
       "      <td>Misc</td>\n",
       "      <td>NaN</td>\n",
       "      <td>0.06</td>\n",
       "      <td>0.02</td>\n",
       "      <td>0.0</td>\n",
       "      <td>0.08</td>\n",
       "    </tr>\n",
       "    <tr>\n",
       "      <th>2417</th>\n",
       "      <td>Pokémon: Johto Photo Finish: Game Boy Advance ...</td>\n",
       "      <td>GBA</td>\n",
       "      <td>2004.0</td>\n",
       "      <td>Misc</td>\n",
       "      <td>NaN</td>\n",
       "      <td>0.11</td>\n",
       "      <td>0.04</td>\n",
       "      <td>0.0</td>\n",
       "      <td>0.15</td>\n",
       "    </tr>\n",
       "    <tr>\n",
       "      <th>3161</th>\n",
       "      <td>SpongeBob SquarePants: Game Boy Advance Video ...</td>\n",
       "      <td>GBA</td>\n",
       "      <td>2004.0</td>\n",
       "      <td>Misc</td>\n",
       "      <td>NaN</td>\n",
       "      <td>0.46</td>\n",
       "      <td>0.17</td>\n",
       "      <td>0.0</td>\n",
       "      <td>0.64</td>\n",
       "    </tr>\n",
       "    <tr>\n",
       "      <th>3240</th>\n",
       "      <td>SpongeBob SquarePants: Game Boy Advance Video ...</td>\n",
       "      <td>GBA</td>\n",
       "      <td>2004.0</td>\n",
       "      <td>Misc</td>\n",
       "      <td>NaN</td>\n",
       "      <td>0.38</td>\n",
       "      <td>0.14</td>\n",
       "      <td>0.0</td>\n",
       "      <td>0.53</td>\n",
       "    </tr>\n",
       "    <tr>\n",
       "      <th>4973</th>\n",
       "      <td>Shrek / Shrek 2 2-in-1 Gameboy Advance Video</td>\n",
       "      <td>GBA</td>\n",
       "      <td>2007.0</td>\n",
       "      <td>Misc</td>\n",
       "      <td>NaN</td>\n",
       "      <td>0.87</td>\n",
       "      <td>0.32</td>\n",
       "      <td>0.0</td>\n",
       "      <td>1.21</td>\n",
       "    </tr>\n",
       "    <tr>\n",
       "      <th>5190</th>\n",
       "      <td>Cartoon Network Collection: Game Boy Advance V...</td>\n",
       "      <td>GBA</td>\n",
       "      <td>2005.0</td>\n",
       "      <td>Misc</td>\n",
       "      <td>NaN</td>\n",
       "      <td>0.23</td>\n",
       "      <td>0.08</td>\n",
       "      <td>0.0</td>\n",
       "      <td>0.32</td>\n",
       "    </tr>\n",
       "    <tr>\n",
       "      <th>5474</th>\n",
       "      <td>All Grown Up!: Game Boy Advance Video Volume 1</td>\n",
       "      <td>GBA</td>\n",
       "      <td>2004.0</td>\n",
       "      <td>Misc</td>\n",
       "      <td>NaN</td>\n",
       "      <td>0.17</td>\n",
       "      <td>0.06</td>\n",
       "      <td>0.0</td>\n",
       "      <td>0.24</td>\n",
       "    </tr>\n",
       "    <tr>\n",
       "      <th>5564</th>\n",
       "      <td>Disney Channel Collection Vol. 1</td>\n",
       "      <td>GBA</td>\n",
       "      <td>2004.0</td>\n",
       "      <td>Misc</td>\n",
       "      <td>NaN</td>\n",
       "      <td>0.08</td>\n",
       "      <td>0.03</td>\n",
       "      <td>0.0</td>\n",
       "      <td>0.11</td>\n",
       "    </tr>\n",
       "    <tr>\n",
       "      <th>5808</th>\n",
       "      <td>Super Robot Monkey Team: Game Boy Advance Vide...</td>\n",
       "      <td>GBA</td>\n",
       "      <td>2005.0</td>\n",
       "      <td>Misc</td>\n",
       "      <td>NaN</td>\n",
       "      <td>0.01</td>\n",
       "      <td>0.00</td>\n",
       "      <td>0.0</td>\n",
       "      <td>0.01</td>\n",
       "    </tr>\n",
       "    <tr>\n",
       "      <th>5956</th>\n",
       "      <td>Codename: Kids Next Door: Game Boy Advance Vid...</td>\n",
       "      <td>GBA</td>\n",
       "      <td>2004.0</td>\n",
       "      <td>Misc</td>\n",
       "      <td>NaN</td>\n",
       "      <td>0.12</td>\n",
       "      <td>0.05</td>\n",
       "      <td>0.0</td>\n",
       "      <td>0.17</td>\n",
       "    </tr>\n",
       "    <tr>\n",
       "      <th>6393</th>\n",
       "      <td>Cartoon Network Collection: Game Boy Advance V...</td>\n",
       "      <td>GBA</td>\n",
       "      <td>2005.0</td>\n",
       "      <td>Misc</td>\n",
       "      <td>NaN</td>\n",
       "      <td>0.11</td>\n",
       "      <td>0.04</td>\n",
       "      <td>0.0</td>\n",
       "      <td>0.15</td>\n",
       "    </tr>\n",
       "    <tr>\n",
       "      <th>8075</th>\n",
       "      <td>Sonic X: Game Boy Advance Video Volume 1</td>\n",
       "      <td>GBA</td>\n",
       "      <td>2004.0</td>\n",
       "      <td>Misc</td>\n",
       "      <td>NaN</td>\n",
       "      <td>0.19</td>\n",
       "      <td>0.07</td>\n",
       "      <td>0.0</td>\n",
       "      <td>0.27</td>\n",
       "    </tr>\n",
       "    <tr>\n",
       "      <th>8123</th>\n",
       "      <td>UK Truck Simulator</td>\n",
       "      <td>PC</td>\n",
       "      <td>2010.0</td>\n",
       "      <td>Simulation</td>\n",
       "      <td>NaN</td>\n",
       "      <td>0.00</td>\n",
       "      <td>0.03</td>\n",
       "      <td>0.0</td>\n",
       "      <td>0.03</td>\n",
       "    </tr>\n",
       "    <tr>\n",
       "      <th>8786</th>\n",
       "      <td>Dragon Ball GT: Game Boy Advance Video Volume 1</td>\n",
       "      <td>GBA</td>\n",
       "      <td>2004.0</td>\n",
       "      <td>Misc</td>\n",
       "      <td>NaN</td>\n",
       "      <td>0.12</td>\n",
       "      <td>0.05</td>\n",
       "      <td>0.0</td>\n",
       "      <td>0.17</td>\n",
       "    </tr>\n",
       "    <tr>\n",
       "      <th>9159</th>\n",
       "      <td>Teenage Mutant Ninja Turtles: Game Boy Advance...</td>\n",
       "      <td>GBA</td>\n",
       "      <td>2004.0</td>\n",
       "      <td>Misc</td>\n",
       "      <td>NaN</td>\n",
       "      <td>0.12</td>\n",
       "      <td>0.04</td>\n",
       "      <td>0.0</td>\n",
       "      <td>0.17</td>\n",
       "    </tr>\n",
       "    <tr>\n",
       "      <th>9641</th>\n",
       "      <td>Farming Simulator 2011</td>\n",
       "      <td>PC</td>\n",
       "      <td>2010.0</td>\n",
       "      <td>Simulation</td>\n",
       "      <td>NaN</td>\n",
       "      <td>0.00</td>\n",
       "      <td>0.13</td>\n",
       "      <td>0.0</td>\n",
       "      <td>0.13</td>\n",
       "    </tr>\n",
       "    <tr>\n",
       "      <th>10509</th>\n",
       "      <td>Dora the Explorer: Game Boy Advance Video Volu...</td>\n",
       "      <td>GBA</td>\n",
       "      <td>2004.0</td>\n",
       "      <td>Misc</td>\n",
       "      <td>NaN</td>\n",
       "      <td>0.18</td>\n",
       "      <td>0.07</td>\n",
       "      <td>0.0</td>\n",
       "      <td>0.26</td>\n",
       "    </tr>\n",
       "    <tr>\n",
       "      <th>10552</th>\n",
       "      <td>Nicktoons Collection: Game Boy Advance Video V...</td>\n",
       "      <td>GBA</td>\n",
       "      <td>2004.0</td>\n",
       "      <td>Misc</td>\n",
       "      <td>NaN</td>\n",
       "      <td>0.16</td>\n",
       "      <td>0.06</td>\n",
       "      <td>0.0</td>\n",
       "      <td>0.22</td>\n",
       "    </tr>\n",
       "    <tr>\n",
       "      <th>10672</th>\n",
       "      <td>Bentley's Hackpack</td>\n",
       "      <td>GBA</td>\n",
       "      <td>2005.0</td>\n",
       "      <td>Misc</td>\n",
       "      <td>NaN</td>\n",
       "      <td>0.67</td>\n",
       "      <td>0.25</td>\n",
       "      <td>0.0</td>\n",
       "      <td>0.93</td>\n",
       "    </tr>\n",
       "    <tr>\n",
       "      <th>11435</th>\n",
       "      <td>Thomas the Tank Engine &amp; Friends</td>\n",
       "      <td>GBA</td>\n",
       "      <td>2004.0</td>\n",
       "      <td>Adventure</td>\n",
       "      <td>NaN</td>\n",
       "      <td>0.13</td>\n",
       "      <td>0.05</td>\n",
       "      <td>0.0</td>\n",
       "      <td>0.19</td>\n",
       "    </tr>\n",
       "    <tr>\n",
       "      <th>11504</th>\n",
       "      <td>The Fairly Odd Parents: Game Boy Advance Video...</td>\n",
       "      <td>GBA</td>\n",
       "      <td>2004.0</td>\n",
       "      <td>Misc</td>\n",
       "      <td>NaN</td>\n",
       "      <td>0.30</td>\n",
       "      <td>0.11</td>\n",
       "      <td>0.0</td>\n",
       "      <td>0.42</td>\n",
       "    </tr>\n",
       "    <tr>\n",
       "      <th>11949</th>\n",
       "      <td>Strawberry Shortcake: Game Boy Advance Video V...</td>\n",
       "      <td>GBA</td>\n",
       "      <td>2004.0</td>\n",
       "      <td>Misc</td>\n",
       "      <td>NaN</td>\n",
       "      <td>0.11</td>\n",
       "      <td>0.04</td>\n",
       "      <td>0.0</td>\n",
       "      <td>0.15</td>\n",
       "    </tr>\n",
       "  </tbody>\n",
       "</table>\n",
       "</div>"
      ],
      "text/plain": [
       "                                                    name platform    year  \\\n",
       "159    SpongeBob SquarePants: Game Boy Advance Video ...      GBA  2004.0   \n",
       "173    Nicktoons Collection: Game Boy Advance Video V...      GBA  2005.0   \n",
       "370    The Fairly Odd Parents: Game Boy Advance Video...      GBA  2004.0   \n",
       "1359   Cartoon Network Collection: Game Boy Advance V...      GBA  2004.0   \n",
       "2075   Nicktoons Collection: Game Boy Advance Video V...      GBA  2004.0   \n",
       "2211   Cartoon Network Collection: Game Boy Advance V...      GBA  2004.0   \n",
       "2417   Pokémon: Johto Photo Finish: Game Boy Advance ...      GBA  2004.0   \n",
       "3161   SpongeBob SquarePants: Game Boy Advance Video ...      GBA  2004.0   \n",
       "3240   SpongeBob SquarePants: Game Boy Advance Video ...      GBA  2004.0   \n",
       "4973        Shrek / Shrek 2 2-in-1 Gameboy Advance Video      GBA  2007.0   \n",
       "5190   Cartoon Network Collection: Game Boy Advance V...      GBA  2005.0   \n",
       "5474      All Grown Up!: Game Boy Advance Video Volume 1      GBA  2004.0   \n",
       "5564                    Disney Channel Collection Vol. 1      GBA  2004.0   \n",
       "5808   Super Robot Monkey Team: Game Boy Advance Vide...      GBA  2005.0   \n",
       "5956   Codename: Kids Next Door: Game Boy Advance Vid...      GBA  2004.0   \n",
       "6393   Cartoon Network Collection: Game Boy Advance V...      GBA  2005.0   \n",
       "8075            Sonic X: Game Boy Advance Video Volume 1      GBA  2004.0   \n",
       "8123                                  UK Truck Simulator       PC  2010.0   \n",
       "8786     Dragon Ball GT: Game Boy Advance Video Volume 1      GBA  2004.0   \n",
       "9159   Teenage Mutant Ninja Turtles: Game Boy Advance...      GBA  2004.0   \n",
       "9641                              Farming Simulator 2011       PC  2010.0   \n",
       "10509  Dora the Explorer: Game Boy Advance Video Volu...      GBA  2004.0   \n",
       "10552  Nicktoons Collection: Game Boy Advance Video V...      GBA  2004.0   \n",
       "10672                                 Bentley's Hackpack      GBA  2005.0   \n",
       "11435                   Thomas the Tank Engine & Friends      GBA  2004.0   \n",
       "11504  The Fairly Odd Parents: Game Boy Advance Video...      GBA  2004.0   \n",
       "11949  Strawberry Shortcake: Game Boy Advance Video V...      GBA  2004.0   \n",
       "\n",
       "            genre publisher  north_america_sales  europe_sales  japan_sales  \\\n",
       "159          Misc       NaN                 0.15          0.05          0.0   \n",
       "173          Misc       NaN                 0.01          0.01          0.0   \n",
       "370          Misc       NaN                 0.31          0.11          0.0   \n",
       "1359         Misc       NaN                 0.18          0.07          0.0   \n",
       "2075         Misc       NaN                 0.46          0.17          0.0   \n",
       "2211         Misc       NaN                 0.06          0.02          0.0   \n",
       "2417         Misc       NaN                 0.11          0.04          0.0   \n",
       "3161         Misc       NaN                 0.46          0.17          0.0   \n",
       "3240         Misc       NaN                 0.38          0.14          0.0   \n",
       "4973         Misc       NaN                 0.87          0.32          0.0   \n",
       "5190         Misc       NaN                 0.23          0.08          0.0   \n",
       "5474         Misc       NaN                 0.17          0.06          0.0   \n",
       "5564         Misc       NaN                 0.08          0.03          0.0   \n",
       "5808         Misc       NaN                 0.01          0.00          0.0   \n",
       "5956         Misc       NaN                 0.12          0.05          0.0   \n",
       "6393         Misc       NaN                 0.11          0.04          0.0   \n",
       "8075         Misc       NaN                 0.19          0.07          0.0   \n",
       "8123   Simulation       NaN                 0.00          0.03          0.0   \n",
       "8786         Misc       NaN                 0.12          0.05          0.0   \n",
       "9159         Misc       NaN                 0.12          0.04          0.0   \n",
       "9641   Simulation       NaN                 0.00          0.13          0.0   \n",
       "10509        Misc       NaN                 0.18          0.07          0.0   \n",
       "10552        Misc       NaN                 0.16          0.06          0.0   \n",
       "10672        Misc       NaN                 0.67          0.25          0.0   \n",
       "11435   Adventure       NaN                 0.13          0.05          0.0   \n",
       "11504        Misc       NaN                 0.30          0.11          0.0   \n",
       "11949        Misc       NaN                 0.11          0.04          0.0   \n",
       "\n",
       "       global_sales  \n",
       "159            0.21  \n",
       "173            0.02  \n",
       "370            0.43  \n",
       "1359           0.25  \n",
       "2075           0.64  \n",
       "2211           0.08  \n",
       "2417           0.15  \n",
       "3161           0.64  \n",
       "3240           0.53  \n",
       "4973           1.21  \n",
       "5190           0.32  \n",
       "5474           0.24  \n",
       "5564           0.11  \n",
       "5808           0.01  \n",
       "5956           0.17  \n",
       "6393           0.15  \n",
       "8075           0.27  \n",
       "8123           0.03  \n",
       "8786           0.17  \n",
       "9159           0.17  \n",
       "9641           0.13  \n",
       "10509          0.26  \n",
       "10552          0.22  \n",
       "10672          0.93  \n",
       "11435          0.19  \n",
       "11504          0.42  \n",
       "11949          0.15  "
      ]
     },
     "execution_count": 7,
     "metadata": {},
     "output_type": "execute_result"
    }
   ],
   "source": [
    "print('All Rows with Nulls')\n",
    "\n",
    "raw_df[raw_df['publisher'].isnull()]"
   ]
  },
  {
   "cell_type": "markdown",
   "metadata": {},
   "source": [
    "__5. Create a copy of `raw_df` named `df`. Remove any rows containing NaN values in the new dataframe. What is the shape of `df` before and after removing the NaN values?__"
   ]
  },
  {
   "cell_type": "code",
   "execution_count": 8,
   "metadata": {
    "ExecuteTime": {
     "end_time": "2021-01-07T12:50:30.914114Z",
     "start_time": "2021-01-07T12:50:30.910486Z"
    }
   },
   "outputs": [
    {
     "name": "stdout",
     "output_type": "stream",
     "text": [
      "Shape Before :(12441, 9)\n",
      "Shape After :(12414, 9)\n"
     ]
    }
   ],
   "source": [
    "# Insert your code below\n",
    "# ======================\n",
    "df = raw_df.copy()\n",
    "print('Shape Before :' + str(df.shape))\n",
    "df = df.dropna(how='any',axis=0) \n",
    "print('Shape After :' + str(df.shape))"
   ]
  },
  {
   "cell_type": "markdown",
   "metadata": {},
   "source": [
    "__6. Which `platform`, `genre` and `publisher` is the most popular (by number of instances) of all time? Print the name and count of each__\n",
    "\n",
    "Hint: The output should look something like this:\n",
    "```python\n",
    "Column: [col], Most popular: [name], Count: [count]\n",
    "Column: [col], Most popular: [name], Count: [count]\n",
    "Column: [col], Most popular: [name], Count: [count]\n",
    "```"
   ]
  },
  {
   "cell_type": "code",
   "execution_count": 9,
   "metadata": {
    "ExecuteTime": {
     "end_time": "2021-01-07T12:50:33.942168Z",
     "start_time": "2021-01-07T12:50:33.938350Z"
    }
   },
   "outputs": [
    {
     "name": "stdout",
     "output_type": "stream",
     "text": [
      "Column: platform , Most popular: PS2, Count: 2120\n",
      "Column: genre , Most popular: Action, Count: 2039\n",
      "Column: publisher , Most popular: Electronic Arts, Count: 1087\n"
     ]
    }
   ],
   "source": [
    "# Insert your code below\n",
    "# ======================\n",
    "columns = [\"platform\",\"genre\",\"publisher\"]\n",
    "for col in columns:\n",
    "    print (f'Column: {col} , Most popular: {raw_df[col].value_counts().index[0]}, Count: {raw_df[col].value_counts().max()}')"
   ]
  },
  {
   "cell_type": "markdown",
   "metadata": {},
   "source": [
    "__7. What is the most popular game for each region? E.g. North America, Europe and Japan and globally__"
   ]
  },
  {
   "cell_type": "code",
   "execution_count": 10,
   "metadata": {
    "ExecuteTime": {
     "end_time": "2021-01-07T12:50:36.602399Z",
     "start_time": "2021-01-07T12:50:36.598962Z"
    }
   },
   "outputs": [
    {
     "name": "stdout",
     "output_type": "stream",
     "text": [
      "Most Popular North America : Wii Sports\n",
      "Most Popular Europe : Wii Sports\n",
      "Most Popular Japan : Pokemon Red/Pokemon Blue\n",
      "Most Popular Global : Wii Sports\n"
     ]
    }
   ],
   "source": [
    "# Insert your code below\n",
    "# ======================\n",
    "sales = [[\"north_america_sales\",\"North America\"],[\"europe_sales\",\"Europe\"],[\"japan_sales\",\"Japan\"],[\"global_sales\",\"Global\"]]\n",
    "for sale in sales:\n",
    "    print(f'Most Popular {sale[1]} : ' + raw_df.iloc[raw_df[sale[0]].argmax()]['name'])"
   ]
  },
  {
   "cell_type": "markdown",
   "metadata": {},
   "source": [
    "__8. Create a new dataframe called `df_pokemon` containing all games with \"pokemon\" in the `name`__\n",
    "\n",
    "Hint: Make sure your filtering is NOT case-sensitive\n",
    "\n",
    "        a. What is the most-sold (globally) Pokemon game of all time?\n",
    "        b. How many Pokemon-games are in the dataset?"
   ]
  },
  {
   "cell_type": "code",
   "execution_count": 11,
   "metadata": {
    "ExecuteTime": {
     "end_time": "2021-01-07T12:50:39.438027Z",
     "start_time": "2021-01-07T12:50:39.435878Z"
    }
   },
   "outputs": [
    {
     "name": "stdout",
     "output_type": "stream",
     "text": [
      "a: Most Sold Pokemon Game : Pokemon Red/Pokemon Blue\n",
      "b: Total Pokemon Game Count : 25\n"
     ]
    }
   ],
   "source": [
    "# Insert your code below\n",
    "# ======================\n",
    "df_pokemon = raw_df.loc[raw_df['name'].str.contains('pokemon',case=False)]\n",
    "most_sold_globally_pokemon = df_pokemon.iloc[df_pokemon['global_sales'].argmax()] \n",
    "print('a: Most Sold Pokemon Game : ' + most_sold_globally_pokemon['name'])\n",
    "print('b: Total Pokemon Game Count : ' + str(len(df_pokemon)))"
   ]
  },
  {
   "cell_type": "markdown",
   "metadata": {},
   "source": [
    "---\n",
    "\n",
    "## Visualizing the dataset"
   ]
  },
  {
   "cell_type": "markdown",
   "metadata": {},
   "source": [
    "__9. Create plot with 2 vertical axes and one horizontal axes. The plot should display a barchart containing the `count` of the `10 most frequent` genres and platforms, each in its own subplot. The bars should be sorted in descending order.__\n",
    "\n",
    "Hint: It is recommended to use the `Barplot` function built into Seaborn for barcharts.\n",
    "\n",
    "The output should look something like this:\n",
    "\n",
    "<img src=\"../assets/barchart.png\"\n",
    "     alt=\"Barchart example\"\n",
    "     style=\"width: 500px; margin-left: 0\" />\n",
    "\n",
    "PS: Disregard the color scheme of the example image."
   ]
  },
  {
   "cell_type": "code",
   "execution_count": 12,
   "metadata": {
    "ExecuteTime": {
     "end_time": "2021-01-07T12:50:42.254889Z",
     "start_time": "2021-01-07T12:50:42.251985Z"
    }
   },
   "outputs": [
    {
     "data": {
      "text/plain": [
       "<AxesSubplot:ylabel='platform'>"
      ]
     },
     "execution_count": 12,
     "metadata": {},
     "output_type": "execute_result"
    },
    {
     "data": {
      "image/png": "[encoded data removed]",
      "text/plain": [
       "<Figure size 842.4x595.44 with 2 Axes>"
      ]
     },
     "metadata": {
      "needs_background": "light"
     },
     "output_type": "display_data"
    }
   ],
   "source": [
    "# Insert your code below\n",
    "# ======================\n",
    "size = (11.7, 8.27)\n",
    "fig,(ax1, ax2) = plt.subplots(2,1,figsize=size)\n",
    "sns.barplot(ax=ax1,x=raw_df.genre.value_counts().index[0:10], y=df.genre.value_counts()[0:10])\n",
    "sns.barplot(ax=ax2,x=raw_df.platform.value_counts().index[0:10], y=df.platform.value_counts()[0:10])"
   ]
  },
  {
   "cell_type": "markdown",
   "metadata": {},
   "source": [
    "__10. Group sales in `df` for the four different regions _by year_ into a new dataframe; `yearly_sales`__\n",
    "\n",
    "Hint: Sales should be aggregated by the `sum` of all sales within the year.\n",
    "\n",
    "The first five rows of the new dataframe should look like this:\n",
    "\n",
    "\n",
    "<img src=\"../assets/yearly_sales_head.png\"\n",
    "     alt=\"First five rows of aggregated sales data\"\n",
    "     style=\"width: 500px; margin-left: 0\" />\n"
   ]
  },
  {
   "cell_type": "code",
   "execution_count": 13,
   "metadata": {
    "ExecuteTime": {
     "end_time": "2021-01-07T12:50:45.145160Z",
     "start_time": "2021-01-07T12:50:45.142274Z"
    }
   },
   "outputs": [
    {
     "data": {
      "text/html": [
       "<div>\n",
       "<style scoped>\n",
       "    .dataframe tbody tr th:only-of-type {\n",
       "        vertical-align: middle;\n",
       "    }\n",
       "\n",
       "    .dataframe tbody tr th {\n",
       "        vertical-align: top;\n",
       "    }\n",
       "\n",
       "    .dataframe thead th {\n",
       "        text-align: right;\n",
       "    }\n",
       "</style>\n",
       "<table border=\"1\" class=\"dataframe\">\n",
       "  <thead>\n",
       "    <tr style=\"text-align: right;\">\n",
       "      <th></th>\n",
       "      <th>north_america_sales</th>\n",
       "      <th>europe_sales</th>\n",
       "      <th>japan_sales</th>\n",
       "      <th>global_sales</th>\n",
       "    </tr>\n",
       "    <tr>\n",
       "      <th>year</th>\n",
       "      <th></th>\n",
       "      <th></th>\n",
       "      <th></th>\n",
       "      <th></th>\n",
       "    </tr>\n",
       "  </thead>\n",
       "  <tbody>\n",
       "    <tr>\n",
       "      <th>1980.0</th>\n",
       "      <td>10.59</td>\n",
       "      <td>0.67</td>\n",
       "      <td>0.00</td>\n",
       "      <td>11.38</td>\n",
       "    </tr>\n",
       "    <tr>\n",
       "      <th>1981.0</th>\n",
       "      <td>33.40</td>\n",
       "      <td>1.96</td>\n",
       "      <td>0.00</td>\n",
       "      <td>35.77</td>\n",
       "    </tr>\n",
       "    <tr>\n",
       "      <th>1982.0</th>\n",
       "      <td>26.92</td>\n",
       "      <td>1.65</td>\n",
       "      <td>0.00</td>\n",
       "      <td>28.86</td>\n",
       "    </tr>\n",
       "    <tr>\n",
       "      <th>1983.0</th>\n",
       "      <td>7.76</td>\n",
       "      <td>0.80</td>\n",
       "      <td>8.10</td>\n",
       "      <td>16.79</td>\n",
       "    </tr>\n",
       "    <tr>\n",
       "      <th>1984.0</th>\n",
       "      <td>33.28</td>\n",
       "      <td>2.10</td>\n",
       "      <td>14.27</td>\n",
       "      <td>50.36</td>\n",
       "    </tr>\n",
       "  </tbody>\n",
       "</table>\n",
       "</div>"
      ],
      "text/plain": [
       "        north_america_sales  europe_sales  japan_sales  global_sales\n",
       "year                                                                \n",
       "1980.0                10.59          0.67         0.00         11.38\n",
       "1981.0                33.40          1.96         0.00         35.77\n",
       "1982.0                26.92          1.65         0.00         28.86\n",
       "1983.0                 7.76          0.80         8.10         16.79\n",
       "1984.0                33.28          2.10        14.27         50.36"
      ]
     },
     "execution_count": 13,
     "metadata": {},
     "output_type": "execute_result"
    }
   ],
   "source": [
    "# Insert your code below\n",
    "# ======================\n",
    "yearly_sales = raw_df.groupby('year').agg(\n",
    "   'sum')\n",
    "yearly_sales.head()"
   ]
  },
  {
   "cell_type": "markdown",
   "metadata": {},
   "source": [
    "__11. Create a correlation matrix (based on the aggregated sales data) and plot it as a heatmap using Seaborn. What does the plot tell you about correlation between sales in the given regions?__"
   ]
  },
  {
   "cell_type": "code",
   "execution_count": 14,
   "metadata": {
    "ExecuteTime": {
     "end_time": "2021-01-07T12:50:47.212325Z",
     "start_time": "2021-01-07T12:50:47.208708Z"
    }
   },
   "outputs": [
    {
     "data": {
      "image/png": "[encoded data removed]",
      "text/plain": [
       "<Figure size 432x288 with 2 Axes>"
      ]
     },
     "metadata": {
      "needs_background": "light"
     },
     "output_type": "display_data"
    }
   ],
   "source": [
    "# Insert your code below\n",
    "# ======================\n",
    "corrMatrix = yearly_sales.corr()\n",
    "ax = sns.heatmap(corrMatrix)"
   ]
  },
  {
   "cell_type": "markdown",
   "metadata": {},
   "source": [
    "### The north america and the european sales are highly correlated with eachother and these regions are also highly correlated globally. Japan shoes a relatively low corelation with north america and europe and also globally."
   ]
  },
  {
   "cell_type": "markdown",
   "metadata": {},
   "source": [
    "__12. Create a lineplot showing sales per year for all four regions over the entire period__\n",
    "\n",
    "The end result should look something like this:\n",
    "\n",
    "<img src=\"../assets/yearly_sales_linechart.png\"\n",
    "     alt=\"Lineplot showing evolution in videogame sales for all four regions\"\n",
    "     style=\"width: 500px; margin-left: 0\" />\n"
   ]
  },
  {
   "cell_type": "code",
   "execution_count": 15,
   "metadata": {
    "ExecuteTime": {
     "end_time": "2021-01-07T12:50:51.240219Z",
     "start_time": "2021-01-07T12:50:51.236863Z"
    }
   },
   "outputs": [
    {
     "data": {
      "text/plain": [
       "<AxesSubplot:xlabel='year'>"
      ]
     },
     "execution_count": 15,
     "metadata": {},
     "output_type": "execute_result"
    },
    {
     "data": {
      "image/png": "[encoded data removed]",
      "text/plain": [
       "<Figure size 432x288 with 1 Axes>"
      ]
     },
     "metadata": {},
     "output_type": "display_data"
    }
   ],
   "source": [
    "# Insert your code below\n",
    "# ======================\n",
    "sns.set_style(\"whitegrid\")\n",
    "sns.lineplot(data=yearly_sales)"
   ]
  },
  {
   "cell_type": "markdown",
   "metadata": {},
   "source": [
    "___"
   ]
  }
 ],
 "metadata": {
  "kernelspec": {
   "display_name": "Python 3",
   "language": "python",
   "name": "python3"
  },
  "language_info": {
   "codemirror_mode": {
    "name": "ipython",
    "version": 3
   },
   "file_extension": ".py",
   "mimetype": "text/x-python",
   "name": "python",
   "nbconvert_exporter": "python",
   "pygments_lexer": "ipython3",
   "version": "3.8.5"
  },
  "toc": {
   "base_numbering": 1,
   "nav_menu": {},
   "number_sections": true,
   "sideBar": true,
   "skip_h1_title": false,
   "title_cell": "Table of Contents",
   "title_sidebar": "Contents",
   "toc_cell": false,
   "toc_position": {},
   "toc_section_display": true,
   "toc_window_display": false
  },
  "varInspector": {
   "cols": {
    "lenName": 16,
    "lenType": 16,
    "lenVar": 40
   },
   "kernels_config": {
    "python": {
     "delete_cmd_postfix": "",
     "delete_cmd_prefix": "del ",
     "library": "var_list.py",
     "varRefreshCmd": "print(var_dic_list())"
    },
    "r": {
     "delete_cmd_postfix": ") ",
     "delete_cmd_prefix": "rm(",
     "library": "var_list.r",
     "varRefreshCmd": "cat(var_dic_list()) "
    }
   },
   "types_to_exclude": [
    "module",
    "function",
    "builtin_function_or_method",
    "instance",
    "_Feature"
   ],
   "window_display": false
  }
 },
 "nbformat": 4,
 "nbformat_minor": 4
}
