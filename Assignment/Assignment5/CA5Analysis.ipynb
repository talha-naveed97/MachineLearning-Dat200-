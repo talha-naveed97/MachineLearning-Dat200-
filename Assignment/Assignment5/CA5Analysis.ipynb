{
 "cells": [
  {
   "cell_type": "code",
   "execution_count": 20,
   "id": "color-cooperative",
   "metadata": {},
   "outputs": [],
   "source": [
    "#==============================================================================\n",
    "# Import modules\n",
    "#==============================================================================\n",
    "import pickle\n",
    "import numpy as np\n",
    "import pandas as pd\n",
    "from sklearn import datasets\n",
    "from sklearn.model_selection import train_test_split\n",
    "from sklearn.preprocessing import StandardScaler\n",
    "import matplotlib.pyplot as plt\n",
    "import seaborn as sns\n",
    "import missingno as msno\n",
    "from sklearn.linear_model import LinearRegression\n",
    "from sklearn.cross_decomposition import PLSRegression\n",
    "from sklearn.metrics import r2_score\n",
    "from sklearn.pipeline import make_pipeline\n",
    "from mlxtend.feature_selection import SequentialFeatureSelector as SFS\n",
    "from mlxtend.plotting import plot_sequential_feature_selection as plot_sfs\n",
    "from sklearn.linear_model import RANSACRegressor\n",
    "from sklearn.linear_model import Ridge\n",
    "from sklearn.decomposition import PCA\n",
    "from sklearn.model_selection import GridSearchCV\n",
    "from sklearn.linear_model import ElasticNet\n",
    "from sklearn.linear_model import Lasso\n",
    "from sklearn.impute import SimpleImputer"
   ]
  },
  {
   "cell_type": "code",
   "execution_count": 21,
   "id": "humanitarian-ending",
   "metadata": {},
   "outputs": [],
   "source": [
    "with open('train4.pkl', 'rb') as f:\n",
    "    data = pickle.load(f)"
   ]
  },
  {
   "cell_type": "code",
   "execution_count": 22,
   "id": "entitled-effort",
   "metadata": {},
   "outputs": [
    {
     "data": {
      "text/html": [
       "<div>\n",
       "<style scoped>\n",
       "    .dataframe tbody tr th:only-of-type {\n",
       "        vertical-align: middle;\n",
       "    }\n",
       "\n",
       "    .dataframe tbody tr th {\n",
       "        vertical-align: top;\n",
       "    }\n",
       "\n",
       "    .dataframe thead th {\n",
       "        text-align: right;\n",
       "    }\n",
       "</style>\n",
       "<table border=\"1\" class=\"dataframe\">\n",
       "  <thead>\n",
       "    <tr style=\"text-align: right;\">\n",
       "      <th></th>\n",
       "      <th>demo_0</th>\n",
       "      <th>demo_1</th>\n",
       "      <th>demo_2</th>\n",
       "      <th>demo_3</th>\n",
       "      <th>demo_4</th>\n",
       "      <th>demo_5</th>\n",
       "      <th>demo_6</th>\n",
       "      <th>demo_7</th>\n",
       "      <th>demo_8</th>\n",
       "      <th>demo_9</th>\n",
       "      <th>...</th>\n",
       "      <th>demo_115</th>\n",
       "      <th>demo_116</th>\n",
       "      <th>demo_117</th>\n",
       "      <th>demo_118</th>\n",
       "      <th>demo_119</th>\n",
       "      <th>demo_120</th>\n",
       "      <th>demo_121</th>\n",
       "      <th>demo_122</th>\n",
       "      <th>demo_123</th>\n",
       "      <th>target</th>\n",
       "    </tr>\n",
       "  </thead>\n",
       "  <tbody>\n",
       "    <tr>\n",
       "      <th>0</th>\n",
       "      <td>11980</td>\n",
       "      <td>3.10</td>\n",
       "      <td>1.37</td>\n",
       "      <td>91.78</td>\n",
       "      <td>6.50</td>\n",
       "      <td>1.88</td>\n",
       "      <td>12.47</td>\n",
       "      <td>21.44</td>\n",
       "      <td>10.93</td>\n",
       "      <td>11.33</td>\n",
       "      <td>...</td>\n",
       "      <td>6.5</td>\n",
       "      <td>1845.9</td>\n",
       "      <td>9.63</td>\n",
       "      <td>missing</td>\n",
       "      <td>missing</td>\n",
       "      <td>missing</td>\n",
       "      <td>missing</td>\n",
       "      <td>0.0</td>\n",
       "      <td>missing</td>\n",
       "      <td>8.20</td>\n",
       "    </tr>\n",
       "    <tr>\n",
       "      <th>1</th>\n",
       "      <td>20009</td>\n",
       "      <td>3.22</td>\n",
       "      <td>1.64</td>\n",
       "      <td>92.31</td>\n",
       "      <td>3.18</td>\n",
       "      <td>7.15</td>\n",
       "      <td>13.17</td>\n",
       "      <td>28.71</td>\n",
       "      <td>10.22</td>\n",
       "      <td>2.18</td>\n",
       "      <td>...</td>\n",
       "      <td>4.2</td>\n",
       "      <td>4728.0</td>\n",
       "      <td>0.00</td>\n",
       "      <td>missing</td>\n",
       "      <td>missing</td>\n",
       "      <td>missing</td>\n",
       "      <td>missing</td>\n",
       "      <td>0.0</td>\n",
       "      <td>missing</td>\n",
       "      <td>71.99</td>\n",
       "    </tr>\n",
       "    <tr>\n",
       "      <th>2</th>\n",
       "      <td>66049</td>\n",
       "      <td>2.63</td>\n",
       "      <td>26.41</td>\n",
       "      <td>72.45</td>\n",
       "      <td>0.76</td>\n",
       "      <td>0.72</td>\n",
       "      <td>17.79</td>\n",
       "      <td>29.84</td>\n",
       "      <td>18.19</td>\n",
       "      <td>14.33</td>\n",
       "      <td>...</td>\n",
       "      <td>51.2</td>\n",
       "      <td>1290.5</td>\n",
       "      <td>3.33</td>\n",
       "      <td>62</td>\n",
       "      <td>5585480</td>\n",
       "      <td>89.13</td>\n",
       "      <td>0</td>\n",
       "      <td>5.8</td>\n",
       "      <td>83166.8</td>\n",
       "      <td>159.32</td>\n",
       "    </tr>\n",
       "    <tr>\n",
       "      <th>3</th>\n",
       "      <td>11157</td>\n",
       "      <td>2.39</td>\n",
       "      <td>0.29</td>\n",
       "      <td>98.87</td>\n",
       "      <td>0.62</td>\n",
       "      <td>0.61</td>\n",
       "      <td>10.72</td>\n",
       "      <td>22.81</td>\n",
       "      <td>11.00</td>\n",
       "      <td>17.50</td>\n",
       "      <td>...</td>\n",
       "      <td>3.0</td>\n",
       "      <td>3726.5</td>\n",
       "      <td>0.90</td>\n",
       "      <td>missing</td>\n",
       "      <td>missing</td>\n",
       "      <td>missing</td>\n",
       "      <td>missing</td>\n",
       "      <td>0.0</td>\n",
       "      <td>missing</td>\n",
       "      <td>24.66</td>\n",
       "    </tr>\n",
       "    <tr>\n",
       "      <th>4</th>\n",
       "      <td>17192</td>\n",
       "      <td>2.69</td>\n",
       "      <td>0.58</td>\n",
       "      <td>97.40</td>\n",
       "      <td>1.07</td>\n",
       "      <td>0.76</td>\n",
       "      <td>14.30</td>\n",
       "      <td>30.82</td>\n",
       "      <td>14.81</td>\n",
       "      <td>9.56</td>\n",
       "      <td>...</td>\n",
       "      <td>6.8</td>\n",
       "      <td>2510.4</td>\n",
       "      <td>2.26</td>\n",
       "      <td>missing</td>\n",
       "      <td>missing</td>\n",
       "      <td>missing</td>\n",
       "      <td>missing</td>\n",
       "      <td>0.0</td>\n",
       "      <td>missing</td>\n",
       "      <td>35.62</td>\n",
       "    </tr>\n",
       "  </tbody>\n",
       "</table>\n",
       "<p>5 rows × 125 columns</p>\n",
       "</div>"
      ],
      "text/plain": [
       "   demo_0  demo_1  demo_2  demo_3  demo_4  demo_5  demo_6  demo_7  demo_8  \\\n",
       "0   11980    3.10    1.37   91.78    6.50    1.88   12.47   21.44   10.93   \n",
       "1   20009    3.22    1.64   92.31    3.18    7.15   13.17   28.71   10.22   \n",
       "2   66049    2.63   26.41   72.45    0.76    0.72   17.79   29.84   18.19   \n",
       "3   11157    2.39    0.29   98.87    0.62    0.61   10.72   22.81   11.00   \n",
       "4   17192    2.69    0.58   97.40    1.07    0.76   14.30   30.82   14.81   \n",
       "\n",
       "   demo_9  ...  demo_115  demo_116  demo_117  demo_118  demo_119  demo_120  \\\n",
       "0   11.33  ...       6.5    1845.9      9.63   missing   missing   missing   \n",
       "1    2.18  ...       4.2    4728.0      0.00   missing   missing   missing   \n",
       "2   14.33  ...      51.2    1290.5      3.33        62   5585480     89.13   \n",
       "3   17.50  ...       3.0    3726.5      0.90   missing   missing   missing   \n",
       "4    9.56  ...       6.8    2510.4      2.26   missing   missing   missing   \n",
       "\n",
       "   demo_121  demo_122  demo_123  target  \n",
       "0   missing       0.0   missing    8.20  \n",
       "1   missing       0.0   missing   71.99  \n",
       "2         0       5.8   83166.8  159.32  \n",
       "3   missing       0.0   missing   24.66  \n",
       "4   missing       0.0   missing   35.62  \n",
       "\n",
       "[5 rows x 125 columns]"
      ]
     },
     "execution_count": 22,
     "metadata": {},
     "output_type": "execute_result"
    }
   ],
   "source": [
    "data.head()"
   ]
  },
  {
   "cell_type": "code",
   "execution_count": 23,
   "id": "basic-intellectual",
   "metadata": {},
   "outputs": [
    {
     "data": {
      "text/plain": [
       "<bound method DataFrame.info of       demo_0  demo_1  demo_2  demo_3  demo_4  demo_5  demo_6  demo_7  demo_8  \\\n",
       "0      11980    3.10    1.37   91.78    6.50    1.88   12.47   21.44   10.93   \n",
       "1      20009    3.22    1.64   92.31    3.18    7.15   13.17   28.71   10.22   \n",
       "2      66049    2.63   26.41   72.45    0.76    0.72   17.79   29.84   18.19   \n",
       "3      11157    2.39    0.29   98.87    0.62    0.61   10.72   22.81   11.00   \n",
       "4      17192    2.69    0.58   97.40    1.07    0.76   14.30   30.82   14.81   \n",
       "...      ...     ...     ...     ...     ...     ...     ...     ...     ...   \n",
       "1084   72411    2.25   28.48   69.97    0.57    5.36    8.76   21.07    9.39   \n",
       "1085   34012    2.14    1.07   98.12    0.43    1.83    9.04   17.98    8.56   \n",
       "1086   12804    2.59    6.09   88.43    4.70    2.83   10.61   21.71    9.93   \n",
       "1087   51266    2.83    0.95   76.55    4.06   33.93   13.94   30.43   14.79   \n",
       "1088   15745    2.46   88.99    9.51    0.91    0.53   14.70   26.17   12.34   \n",
       "\n",
       "      demo_9  ...  demo_115  demo_116  demo_117  demo_118  demo_119  demo_120  \\\n",
       "0      11.33  ...       6.5    1845.9      9.63   missing   missing   missing   \n",
       "1       2.18  ...       4.2    4728.0      0.00   missing   missing   missing   \n",
       "2      14.33  ...      51.2    1290.5      3.33        62   5585480     89.13   \n",
       "3      17.50  ...       3.0    3726.5      0.90   missing   missing   missing   \n",
       "4       9.56  ...       6.8    2510.4      2.26   missing   missing   missing   \n",
       "...      ...  ...       ...       ...       ...       ...       ...       ...   \n",
       "1084   22.29  ...      21.1    3435.7      3.53        70  14050209     96.85   \n",
       "1085   28.70  ...      10.7    3173.9      0.65   missing   missing   missing   \n",
       "1086   14.18  ...       2.8    4511.0     11.91   missing   missing   missing   \n",
       "1087    9.63  ...       7.6    6759.8      1.75   missing   missing   missing   \n",
       "1088    9.09  ...       4.1    3797.3      9.94   missing   missing   missing   \n",
       "\n",
       "      demo_121  demo_122   demo_123  target  \n",
       "0      missing       0.0    missing    8.20  \n",
       "1      missing       0.0    missing   71.99  \n",
       "2            0       5.8    83166.8  159.32  \n",
       "3      missing       0.0    missing   24.66  \n",
       "4      missing       0.0    missing   35.62  \n",
       "...        ...       ...        ...     ...  \n",
       "1084        10      12.6  182766.91  814.31  \n",
       "1085   missing       0.0    missing   80.79  \n",
       "1086   missing       0.0    missing   91.78  \n",
       "1087   missing       0.0    missing  165.02  \n",
       "1088   missing       0.0    missing  436.49  \n",
       "\n",
       "[1089 rows x 125 columns]>"
      ]
     },
     "execution_count": 23,
     "metadata": {},
     "output_type": "execute_result"
    }
   ],
   "source": [
    "data.info"
   ]
  },
  {
   "cell_type": "code",
   "execution_count": 24,
   "id": "adult-horizontal",
   "metadata": {},
   "outputs": [
    {
     "name": "stdout",
     "output_type": "stream",
     "text": [
      "demo_0      0\n",
      "demo_1      0\n",
      "demo_2      0\n",
      "demo_3      0\n",
      "demo_4      0\n",
      "           ..\n",
      "demo_120    0\n",
      "demo_121    0\n",
      "demo_122    0\n",
      "demo_123    0\n",
      "target      0\n",
      "Length: 125, dtype: int64\n"
     ]
    }
   ],
   "source": [
    "print(data.isnull().sum())"
   ]
  },
  {
   "cell_type": "code",
   "execution_count": 25,
   "id": "dying-movie",
   "metadata": {},
   "outputs": [],
   "source": [
    "data = data.replace('missing', np.nan)"
   ]
  },
  {
   "cell_type": "code",
   "execution_count": 26,
   "id": "announced-distance",
   "metadata": {},
   "outputs": [
    {
     "name": "stdout",
     "output_type": "stream",
     "text": [
      "20461\n"
     ]
    }
   ],
   "source": [
    "print(data.isnull().sum().sum())"
   ]
  },
  {
   "cell_type": "code",
   "execution_count": 27,
   "id": "fossil-danish",
   "metadata": {},
   "outputs": [
    {
     "name": "stdout",
     "output_type": "stream",
     "text": [
      "demo_0        0\n",
      "demo_1        0\n",
      "demo_2        0\n",
      "demo_3        0\n",
      "demo_4        0\n",
      "           ... \n",
      "demo_120    930\n",
      "demo_121    930\n",
      "demo_122      0\n",
      "demo_123    930\n",
      "target        0\n",
      "Length: 125, dtype: int64\n"
     ]
    }
   ],
   "source": [
    "print(data.isna().sum())"
   ]
  },
  {
   "cell_type": "code",
   "execution_count": 28,
   "id": "single-coast",
   "metadata": {},
   "outputs": [
    {
     "data": {
      "text/plain": [
       "<AxesSubplot:>"
      ]
     },
     "execution_count": 28,
     "metadata": {},
     "output_type": "execute_result"
    },
    {
     "data": {
      "image/png": "[encoded data removed]",
      "text/plain": [
       "<Figure size 1800x720 with 2 Axes>"
      ]
     },
     "metadata": {
      "needs_background": "light"
     },
     "output_type": "display_data"
    }
   ],
   "source": [
    "msno.matrix(data)"
   ]
  },
  {
   "cell_type": "code",
   "execution_count": 29,
   "id": "southwest-documentation",
   "metadata": {},
   "outputs": [
    {
     "name": "stderr",
     "output_type": "stream",
     "text": [
      "C:\\Users\\malik\\miniconda3\\envs\\dat200\\lib\\site-packages\\seaborn\\_decorators.py:36: FutureWarning: Pass the following variable as a keyword arg: x. From version 0.12, the only valid positional argument will be `data`, and passing other arguments without an explicit keyword will result in an error or misinterpretation.\n",
      "  warnings.warn(\n"
     ]
    },
    {
     "data": {
      "text/plain": [
       "<AxesSubplot:ylabel='count'>"
      ]
     },
     "execution_count": 29,
     "metadata": {},
     "output_type": "execute_result"
    },
    {
     "data": {
      "image/png": "[encoded data removed]",
      "text/plain": [
       "<Figure size 432x288 with 1 Axes>"
      ]
     },
     "metadata": {
      "needs_background": "light"
     },
     "output_type": "display_data"
    }
   ],
   "source": [
    "sns.countplot(data.isnull().sum())"
   ]
  },
  {
   "cell_type": "code",
   "execution_count": 30,
   "id": "occupational-soundtrack",
   "metadata": {},
   "outputs": [],
   "source": [
    "data = data.dropna(axis=1,thresh = 930)"
   ]
  },
  {
   "cell_type": "code",
   "execution_count": 31,
   "id": "higher-target",
   "metadata": {},
   "outputs": [
    {
     "name": "stdout",
     "output_type": "stream",
     "text": [
      "1\n"
     ]
    }
   ],
   "source": [
    "print(data.isnull().sum().sum())"
   ]
  },
  {
   "cell_type": "code",
   "execution_count": 32,
   "id": "superb-newark",
   "metadata": {},
   "outputs": [
    {
     "data": {
      "text/plain": [
       "['demo_25']"
      ]
     },
     "execution_count": 32,
     "metadata": {},
     "output_type": "execute_result"
    }
   ],
   "source": [
    "data.columns[data.isna().any()].tolist()"
   ]
  },
  {
   "cell_type": "code",
   "execution_count": 33,
   "id": "billion-tomato",
   "metadata": {},
   "outputs": [
    {
     "name": "stdout",
     "output_type": "stream",
     "text": [
      "object\n"
     ]
    }
   ],
   "source": [
    "print(data.dtypes['demo_25'])"
   ]
  },
  {
   "cell_type": "code",
   "execution_count": 34,
   "id": "inside-shopping",
   "metadata": {},
   "outputs": [],
   "source": [
    "data['demo_25'] = (data['demo_25'] !='n').astype(int)"
   ]
  },
  {
   "cell_type": "code",
   "execution_count": 35,
   "id": "binding-domestic",
   "metadata": {},
   "outputs": [
    {
     "data": {
      "text/html": [
       "<div>\n",
       "<style scoped>\n",
       "    .dataframe tbody tr th:only-of-type {\n",
       "        vertical-align: middle;\n",
       "    }\n",
       "\n",
       "    .dataframe tbody tr th {\n",
       "        vertical-align: top;\n",
       "    }\n",
       "\n",
       "    .dataframe thead th {\n",
       "        text-align: right;\n",
       "    }\n",
       "</style>\n",
       "<table border=\"1\" class=\"dataframe\">\n",
       "  <thead>\n",
       "    <tr style=\"text-align: right;\">\n",
       "      <th></th>\n",
       "      <th>demo_0</th>\n",
       "      <th>demo_1</th>\n",
       "      <th>demo_2</th>\n",
       "      <th>demo_3</th>\n",
       "      <th>demo_4</th>\n",
       "      <th>demo_5</th>\n",
       "      <th>demo_6</th>\n",
       "      <th>demo_7</th>\n",
       "      <th>demo_8</th>\n",
       "      <th>demo_9</th>\n",
       "      <th>...</th>\n",
       "      <th>demo_93</th>\n",
       "      <th>demo_94</th>\n",
       "      <th>demo_95</th>\n",
       "      <th>demo_96</th>\n",
       "      <th>demo_97</th>\n",
       "      <th>demo_115</th>\n",
       "      <th>demo_116</th>\n",
       "      <th>demo_117</th>\n",
       "      <th>demo_122</th>\n",
       "      <th>target</th>\n",
       "    </tr>\n",
       "  </thead>\n",
       "  <tbody>\n",
       "    <tr>\n",
       "      <th>0</th>\n",
       "      <td>11980</td>\n",
       "      <td>3.10</td>\n",
       "      <td>1.37</td>\n",
       "      <td>91.78</td>\n",
       "      <td>6.50</td>\n",
       "      <td>1.88</td>\n",
       "      <td>12.47</td>\n",
       "      <td>21.44</td>\n",
       "      <td>10.93</td>\n",
       "      <td>11.33</td>\n",
       "      <td>...</td>\n",
       "      <td>10.66</td>\n",
       "      <td>53.72</td>\n",
       "      <td>65.29</td>\n",
       "      <td>78.09</td>\n",
       "      <td>89.14</td>\n",
       "      <td>6.5</td>\n",
       "      <td>1845.9</td>\n",
       "      <td>9.63</td>\n",
       "      <td>0.0</td>\n",
       "      <td>8.20</td>\n",
       "    </tr>\n",
       "    <tr>\n",
       "      <th>1</th>\n",
       "      <td>20009</td>\n",
       "      <td>3.22</td>\n",
       "      <td>1.64</td>\n",
       "      <td>92.31</td>\n",
       "      <td>3.18</td>\n",
       "      <td>7.15</td>\n",
       "      <td>13.17</td>\n",
       "      <td>28.71</td>\n",
       "      <td>10.22</td>\n",
       "      <td>2.18</td>\n",
       "      <td>...</td>\n",
       "      <td>4.07</td>\n",
       "      <td>61.12</td>\n",
       "      <td>46.58</td>\n",
       "      <td>77.06</td>\n",
       "      <td>89.45</td>\n",
       "      <td>4.2</td>\n",
       "      <td>4728.0</td>\n",
       "      <td>0.00</td>\n",
       "      <td>0.0</td>\n",
       "      <td>71.99</td>\n",
       "    </tr>\n",
       "    <tr>\n",
       "      <th>2</th>\n",
       "      <td>66049</td>\n",
       "      <td>2.63</td>\n",
       "      <td>26.41</td>\n",
       "      <td>72.45</td>\n",
       "      <td>0.76</td>\n",
       "      <td>0.72</td>\n",
       "      <td>17.79</td>\n",
       "      <td>29.84</td>\n",
       "      <td>18.19</td>\n",
       "      <td>14.33</td>\n",
       "      <td>...</td>\n",
       "      <td>1.68</td>\n",
       "      <td>70.07</td>\n",
       "      <td>52.60</td>\n",
       "      <td>73.84</td>\n",
       "      <td>86.06</td>\n",
       "      <td>51.2</td>\n",
       "      <td>1290.5</td>\n",
       "      <td>3.33</td>\n",
       "      <td>5.8</td>\n",
       "      <td>159.32</td>\n",
       "    </tr>\n",
       "    <tr>\n",
       "      <th>3</th>\n",
       "      <td>11157</td>\n",
       "      <td>2.39</td>\n",
       "      <td>0.29</td>\n",
       "      <td>98.87</td>\n",
       "      <td>0.62</td>\n",
       "      <td>0.61</td>\n",
       "      <td>10.72</td>\n",
       "      <td>22.81</td>\n",
       "      <td>11.00</td>\n",
       "      <td>17.50</td>\n",
       "      <td>...</td>\n",
       "      <td>1.95</td>\n",
       "      <td>84.13</td>\n",
       "      <td>62.88</td>\n",
       "      <td>87.42</td>\n",
       "      <td>93.22</td>\n",
       "      <td>3.0</td>\n",
       "      <td>3726.5</td>\n",
       "      <td>0.90</td>\n",
       "      <td>0.0</td>\n",
       "      <td>24.66</td>\n",
       "    </tr>\n",
       "    <tr>\n",
       "      <th>4</th>\n",
       "      <td>17192</td>\n",
       "      <td>2.69</td>\n",
       "      <td>0.58</td>\n",
       "      <td>97.40</td>\n",
       "      <td>1.07</td>\n",
       "      <td>0.76</td>\n",
       "      <td>14.30</td>\n",
       "      <td>30.82</td>\n",
       "      <td>14.81</td>\n",
       "      <td>9.56</td>\n",
       "      <td>...</td>\n",
       "      <td>1.35</td>\n",
       "      <td>76.87</td>\n",
       "      <td>47.00</td>\n",
       "      <td>74.93</td>\n",
       "      <td>92.27</td>\n",
       "      <td>6.8</td>\n",
       "      <td>2510.4</td>\n",
       "      <td>2.26</td>\n",
       "      <td>0.0</td>\n",
       "      <td>35.62</td>\n",
       "    </tr>\n",
       "    <tr>\n",
       "      <th>...</th>\n",
       "      <td>...</td>\n",
       "      <td>...</td>\n",
       "      <td>...</td>\n",
       "      <td>...</td>\n",
       "      <td>...</td>\n",
       "      <td>...</td>\n",
       "      <td>...</td>\n",
       "      <td>...</td>\n",
       "      <td>...</td>\n",
       "      <td>...</td>\n",
       "      <td>...</td>\n",
       "      <td>...</td>\n",
       "      <td>...</td>\n",
       "      <td>...</td>\n",
       "      <td>...</td>\n",
       "      <td>...</td>\n",
       "      <td>...</td>\n",
       "      <td>...</td>\n",
       "      <td>...</td>\n",
       "      <td>...</td>\n",
       "      <td>...</td>\n",
       "    </tr>\n",
       "    <tr>\n",
       "      <th>1084</th>\n",
       "      <td>72411</td>\n",
       "      <td>2.25</td>\n",
       "      <td>28.48</td>\n",
       "      <td>69.97</td>\n",
       "      <td>0.57</td>\n",
       "      <td>5.36</td>\n",
       "      <td>8.76</td>\n",
       "      <td>21.07</td>\n",
       "      <td>9.39</td>\n",
       "      <td>22.29</td>\n",
       "      <td>...</td>\n",
       "      <td>14.18</td>\n",
       "      <td>26.12</td>\n",
       "      <td>49.14</td>\n",
       "      <td>79.45</td>\n",
       "      <td>84.32</td>\n",
       "      <td>21.1</td>\n",
       "      <td>3435.7</td>\n",
       "      <td>3.53</td>\n",
       "      <td>12.6</td>\n",
       "      <td>814.31</td>\n",
       "    </tr>\n",
       "    <tr>\n",
       "      <th>1085</th>\n",
       "      <td>34012</td>\n",
       "      <td>2.14</td>\n",
       "      <td>1.07</td>\n",
       "      <td>98.12</td>\n",
       "      <td>0.43</td>\n",
       "      <td>1.83</td>\n",
       "      <td>9.04</td>\n",
       "      <td>17.98</td>\n",
       "      <td>8.56</td>\n",
       "      <td>28.70</td>\n",
       "      <td>...</td>\n",
       "      <td>7.06</td>\n",
       "      <td>14.70</td>\n",
       "      <td>47.97</td>\n",
       "      <td>73.84</td>\n",
       "      <td>78.16</td>\n",
       "      <td>10.7</td>\n",
       "      <td>3173.9</td>\n",
       "      <td>0.65</td>\n",
       "      <td>0.0</td>\n",
       "      <td>80.79</td>\n",
       "    </tr>\n",
       "    <tr>\n",
       "      <th>1086</th>\n",
       "      <td>12804</td>\n",
       "      <td>2.59</td>\n",
       "      <td>6.09</td>\n",
       "      <td>88.43</td>\n",
       "      <td>4.70</td>\n",
       "      <td>2.83</td>\n",
       "      <td>10.61</td>\n",
       "      <td>21.71</td>\n",
       "      <td>9.93</td>\n",
       "      <td>14.18</td>\n",
       "      <td>...</td>\n",
       "      <td>9.25</td>\n",
       "      <td>58.33</td>\n",
       "      <td>69.27</td>\n",
       "      <td>86.32</td>\n",
       "      <td>91.38</td>\n",
       "      <td>2.8</td>\n",
       "      <td>4511.0</td>\n",
       "      <td>11.91</td>\n",
       "      <td>0.0</td>\n",
       "      <td>91.78</td>\n",
       "    </tr>\n",
       "    <tr>\n",
       "      <th>1087</th>\n",
       "      <td>51266</td>\n",
       "      <td>2.83</td>\n",
       "      <td>0.95</td>\n",
       "      <td>76.55</td>\n",
       "      <td>4.06</td>\n",
       "      <td>33.93</td>\n",
       "      <td>13.94</td>\n",
       "      <td>30.43</td>\n",
       "      <td>14.79</td>\n",
       "      <td>9.63</td>\n",
       "      <td>...</td>\n",
       "      <td>19.86</td>\n",
       "      <td>50.16</td>\n",
       "      <td>48.58</td>\n",
       "      <td>71.60</td>\n",
       "      <td>91.08</td>\n",
       "      <td>7.6</td>\n",
       "      <td>6759.8</td>\n",
       "      <td>1.75</td>\n",
       "      <td>0.0</td>\n",
       "      <td>165.02</td>\n",
       "    </tr>\n",
       "    <tr>\n",
       "      <th>1088</th>\n",
       "      <td>15745</td>\n",
       "      <td>2.46</td>\n",
       "      <td>88.99</td>\n",
       "      <td>9.51</td>\n",
       "      <td>0.91</td>\n",
       "      <td>0.53</td>\n",
       "      <td>14.70</td>\n",
       "      <td>26.17</td>\n",
       "      <td>12.34</td>\n",
       "      <td>9.09</td>\n",
       "      <td>...</td>\n",
       "      <td>2.42</td>\n",
       "      <td>65.79</td>\n",
       "      <td>60.87</td>\n",
       "      <td>94.76</td>\n",
       "      <td>97.23</td>\n",
       "      <td>4.1</td>\n",
       "      <td>3797.3</td>\n",
       "      <td>9.94</td>\n",
       "      <td>0.0</td>\n",
       "      <td>436.49</td>\n",
       "    </tr>\n",
       "  </tbody>\n",
       "</table>\n",
       "<p>1089 rows × 103 columns</p>\n",
       "</div>"
      ],
      "text/plain": [
       "      demo_0  demo_1  demo_2  demo_3  demo_4  demo_5  demo_6  demo_7  demo_8  \\\n",
       "0      11980    3.10    1.37   91.78    6.50    1.88   12.47   21.44   10.93   \n",
       "1      20009    3.22    1.64   92.31    3.18    7.15   13.17   28.71   10.22   \n",
       "2      66049    2.63   26.41   72.45    0.76    0.72   17.79   29.84   18.19   \n",
       "3      11157    2.39    0.29   98.87    0.62    0.61   10.72   22.81   11.00   \n",
       "4      17192    2.69    0.58   97.40    1.07    0.76   14.30   30.82   14.81   \n",
       "...      ...     ...     ...     ...     ...     ...     ...     ...     ...   \n",
       "1084   72411    2.25   28.48   69.97    0.57    5.36    8.76   21.07    9.39   \n",
       "1085   34012    2.14    1.07   98.12    0.43    1.83    9.04   17.98    8.56   \n",
       "1086   12804    2.59    6.09   88.43    4.70    2.83   10.61   21.71    9.93   \n",
       "1087   51266    2.83    0.95   76.55    4.06   33.93   13.94   30.43   14.79   \n",
       "1088   15745    2.46   88.99    9.51    0.91    0.53   14.70   26.17   12.34   \n",
       "\n",
       "      demo_9  ...  demo_93  demo_94  demo_95  demo_96  demo_97  demo_115  \\\n",
       "0      11.33  ...    10.66    53.72    65.29    78.09    89.14       6.5   \n",
       "1       2.18  ...     4.07    61.12    46.58    77.06    89.45       4.2   \n",
       "2      14.33  ...     1.68    70.07    52.60    73.84    86.06      51.2   \n",
       "3      17.50  ...     1.95    84.13    62.88    87.42    93.22       3.0   \n",
       "4       9.56  ...     1.35    76.87    47.00    74.93    92.27       6.8   \n",
       "...      ...  ...      ...      ...      ...      ...      ...       ...   \n",
       "1084   22.29  ...    14.18    26.12    49.14    79.45    84.32      21.1   \n",
       "1085   28.70  ...     7.06    14.70    47.97    73.84    78.16      10.7   \n",
       "1086   14.18  ...     9.25    58.33    69.27    86.32    91.38       2.8   \n",
       "1087    9.63  ...    19.86    50.16    48.58    71.60    91.08       7.6   \n",
       "1088    9.09  ...     2.42    65.79    60.87    94.76    97.23       4.1   \n",
       "\n",
       "      demo_116  demo_117  demo_122  target  \n",
       "0       1845.9      9.63       0.0    8.20  \n",
       "1       4728.0      0.00       0.0   71.99  \n",
       "2       1290.5      3.33       5.8  159.32  \n",
       "3       3726.5      0.90       0.0   24.66  \n",
       "4       2510.4      2.26       0.0   35.62  \n",
       "...        ...       ...       ...     ...  \n",
       "1084    3435.7      3.53      12.6  814.31  \n",
       "1085    3173.9      0.65       0.0   80.79  \n",
       "1086    4511.0     11.91       0.0   91.78  \n",
       "1087    6759.8      1.75       0.0  165.02  \n",
       "1088    3797.3      9.94       0.0  436.49  \n",
       "\n",
       "[1089 rows x 103 columns]"
      ]
     },
     "execution_count": 35,
     "metadata": {},
     "output_type": "execute_result"
    }
   ],
   "source": [
    "data"
   ]
  },
  {
   "cell_type": "code",
   "execution_count": 36,
   "id": "imported-diagnosis",
   "metadata": {},
   "outputs": [],
   "source": [
    "data['demo_25'].fillna(data['demo_25'].mean(), inplace = True)"
   ]
  },
  {
   "cell_type": "code",
   "execution_count": 37,
   "id": "sunset-bahamas",
   "metadata": {},
   "outputs": [
    {
     "data": {
      "text/html": [
       "<div>\n",
       "<style scoped>\n",
       "    .dataframe tbody tr th:only-of-type {\n",
       "        vertical-align: middle;\n",
       "    }\n",
       "\n",
       "    .dataframe tbody tr th {\n",
       "        vertical-align: top;\n",
       "    }\n",
       "\n",
       "    .dataframe thead th {\n",
       "        text-align: right;\n",
       "    }\n",
       "</style>\n",
       "<table border=\"1\" class=\"dataframe\">\n",
       "  <thead>\n",
       "    <tr style=\"text-align: right;\">\n",
       "      <th></th>\n",
       "      <th>demo_0</th>\n",
       "      <th>demo_1</th>\n",
       "      <th>demo_2</th>\n",
       "      <th>demo_3</th>\n",
       "      <th>demo_4</th>\n",
       "      <th>demo_5</th>\n",
       "      <th>demo_6</th>\n",
       "      <th>demo_7</th>\n",
       "      <th>demo_8</th>\n",
       "      <th>demo_9</th>\n",
       "      <th>...</th>\n",
       "      <th>demo_93</th>\n",
       "      <th>demo_94</th>\n",
       "      <th>demo_95</th>\n",
       "      <th>demo_96</th>\n",
       "      <th>demo_97</th>\n",
       "      <th>demo_115</th>\n",
       "      <th>demo_116</th>\n",
       "      <th>demo_117</th>\n",
       "      <th>demo_122</th>\n",
       "      <th>target</th>\n",
       "    </tr>\n",
       "  </thead>\n",
       "  <tbody>\n",
       "    <tr>\n",
       "      <th>0</th>\n",
       "      <td>11980</td>\n",
       "      <td>3.10</td>\n",
       "      <td>1.37</td>\n",
       "      <td>91.78</td>\n",
       "      <td>6.50</td>\n",
       "      <td>1.88</td>\n",
       "      <td>12.47</td>\n",
       "      <td>21.44</td>\n",
       "      <td>10.93</td>\n",
       "      <td>11.33</td>\n",
       "      <td>...</td>\n",
       "      <td>10.66</td>\n",
       "      <td>53.72</td>\n",
       "      <td>65.29</td>\n",
       "      <td>78.09</td>\n",
       "      <td>89.14</td>\n",
       "      <td>6.5</td>\n",
       "      <td>1845.9</td>\n",
       "      <td>9.63</td>\n",
       "      <td>0.0</td>\n",
       "      <td>8.20</td>\n",
       "    </tr>\n",
       "    <tr>\n",
       "      <th>1</th>\n",
       "      <td>20009</td>\n",
       "      <td>3.22</td>\n",
       "      <td>1.64</td>\n",
       "      <td>92.31</td>\n",
       "      <td>3.18</td>\n",
       "      <td>7.15</td>\n",
       "      <td>13.17</td>\n",
       "      <td>28.71</td>\n",
       "      <td>10.22</td>\n",
       "      <td>2.18</td>\n",
       "      <td>...</td>\n",
       "      <td>4.07</td>\n",
       "      <td>61.12</td>\n",
       "      <td>46.58</td>\n",
       "      <td>77.06</td>\n",
       "      <td>89.45</td>\n",
       "      <td>4.2</td>\n",
       "      <td>4728.0</td>\n",
       "      <td>0.00</td>\n",
       "      <td>0.0</td>\n",
       "      <td>71.99</td>\n",
       "    </tr>\n",
       "    <tr>\n",
       "      <th>2</th>\n",
       "      <td>66049</td>\n",
       "      <td>2.63</td>\n",
       "      <td>26.41</td>\n",
       "      <td>72.45</td>\n",
       "      <td>0.76</td>\n",
       "      <td>0.72</td>\n",
       "      <td>17.79</td>\n",
       "      <td>29.84</td>\n",
       "      <td>18.19</td>\n",
       "      <td>14.33</td>\n",
       "      <td>...</td>\n",
       "      <td>1.68</td>\n",
       "      <td>70.07</td>\n",
       "      <td>52.60</td>\n",
       "      <td>73.84</td>\n",
       "      <td>86.06</td>\n",
       "      <td>51.2</td>\n",
       "      <td>1290.5</td>\n",
       "      <td>3.33</td>\n",
       "      <td>5.8</td>\n",
       "      <td>159.32</td>\n",
       "    </tr>\n",
       "    <tr>\n",
       "      <th>3</th>\n",
       "      <td>11157</td>\n",
       "      <td>2.39</td>\n",
       "      <td>0.29</td>\n",
       "      <td>98.87</td>\n",
       "      <td>0.62</td>\n",
       "      <td>0.61</td>\n",
       "      <td>10.72</td>\n",
       "      <td>22.81</td>\n",
       "      <td>11.00</td>\n",
       "      <td>17.50</td>\n",
       "      <td>...</td>\n",
       "      <td>1.95</td>\n",
       "      <td>84.13</td>\n",
       "      <td>62.88</td>\n",
       "      <td>87.42</td>\n",
       "      <td>93.22</td>\n",
       "      <td>3.0</td>\n",
       "      <td>3726.5</td>\n",
       "      <td>0.90</td>\n",
       "      <td>0.0</td>\n",
       "      <td>24.66</td>\n",
       "    </tr>\n",
       "    <tr>\n",
       "      <th>4</th>\n",
       "      <td>17192</td>\n",
       "      <td>2.69</td>\n",
       "      <td>0.58</td>\n",
       "      <td>97.40</td>\n",
       "      <td>1.07</td>\n",
       "      <td>0.76</td>\n",
       "      <td>14.30</td>\n",
       "      <td>30.82</td>\n",
       "      <td>14.81</td>\n",
       "      <td>9.56</td>\n",
       "      <td>...</td>\n",
       "      <td>1.35</td>\n",
       "      <td>76.87</td>\n",
       "      <td>47.00</td>\n",
       "      <td>74.93</td>\n",
       "      <td>92.27</td>\n",
       "      <td>6.8</td>\n",
       "      <td>2510.4</td>\n",
       "      <td>2.26</td>\n",
       "      <td>0.0</td>\n",
       "      <td>35.62</td>\n",
       "    </tr>\n",
       "    <tr>\n",
       "      <th>...</th>\n",
       "      <td>...</td>\n",
       "      <td>...</td>\n",
       "      <td>...</td>\n",
       "      <td>...</td>\n",
       "      <td>...</td>\n",
       "      <td>...</td>\n",
       "      <td>...</td>\n",
       "      <td>...</td>\n",
       "      <td>...</td>\n",
       "      <td>...</td>\n",
       "      <td>...</td>\n",
       "      <td>...</td>\n",
       "      <td>...</td>\n",
       "      <td>...</td>\n",
       "      <td>...</td>\n",
       "      <td>...</td>\n",
       "      <td>...</td>\n",
       "      <td>...</td>\n",
       "      <td>...</td>\n",
       "      <td>...</td>\n",
       "      <td>...</td>\n",
       "    </tr>\n",
       "    <tr>\n",
       "      <th>1084</th>\n",
       "      <td>72411</td>\n",
       "      <td>2.25</td>\n",
       "      <td>28.48</td>\n",
       "      <td>69.97</td>\n",
       "      <td>0.57</td>\n",
       "      <td>5.36</td>\n",
       "      <td>8.76</td>\n",
       "      <td>21.07</td>\n",
       "      <td>9.39</td>\n",
       "      <td>22.29</td>\n",
       "      <td>...</td>\n",
       "      <td>14.18</td>\n",
       "      <td>26.12</td>\n",
       "      <td>49.14</td>\n",
       "      <td>79.45</td>\n",
       "      <td>84.32</td>\n",
       "      <td>21.1</td>\n",
       "      <td>3435.7</td>\n",
       "      <td>3.53</td>\n",
       "      <td>12.6</td>\n",
       "      <td>814.31</td>\n",
       "    </tr>\n",
       "    <tr>\n",
       "      <th>1085</th>\n",
       "      <td>34012</td>\n",
       "      <td>2.14</td>\n",
       "      <td>1.07</td>\n",
       "      <td>98.12</td>\n",
       "      <td>0.43</td>\n",
       "      <td>1.83</td>\n",
       "      <td>9.04</td>\n",
       "      <td>17.98</td>\n",
       "      <td>8.56</td>\n",
       "      <td>28.70</td>\n",
       "      <td>...</td>\n",
       "      <td>7.06</td>\n",
       "      <td>14.70</td>\n",
       "      <td>47.97</td>\n",
       "      <td>73.84</td>\n",
       "      <td>78.16</td>\n",
       "      <td>10.7</td>\n",
       "      <td>3173.9</td>\n",
       "      <td>0.65</td>\n",
       "      <td>0.0</td>\n",
       "      <td>80.79</td>\n",
       "    </tr>\n",
       "    <tr>\n",
       "      <th>1086</th>\n",
       "      <td>12804</td>\n",
       "      <td>2.59</td>\n",
       "      <td>6.09</td>\n",
       "      <td>88.43</td>\n",
       "      <td>4.70</td>\n",
       "      <td>2.83</td>\n",
       "      <td>10.61</td>\n",
       "      <td>21.71</td>\n",
       "      <td>9.93</td>\n",
       "      <td>14.18</td>\n",
       "      <td>...</td>\n",
       "      <td>9.25</td>\n",
       "      <td>58.33</td>\n",
       "      <td>69.27</td>\n",
       "      <td>86.32</td>\n",
       "      <td>91.38</td>\n",
       "      <td>2.8</td>\n",
       "      <td>4511.0</td>\n",
       "      <td>11.91</td>\n",
       "      <td>0.0</td>\n",
       "      <td>91.78</td>\n",
       "    </tr>\n",
       "    <tr>\n",
       "      <th>1087</th>\n",
       "      <td>51266</td>\n",
       "      <td>2.83</td>\n",
       "      <td>0.95</td>\n",
       "      <td>76.55</td>\n",
       "      <td>4.06</td>\n",
       "      <td>33.93</td>\n",
       "      <td>13.94</td>\n",
       "      <td>30.43</td>\n",
       "      <td>14.79</td>\n",
       "      <td>9.63</td>\n",
       "      <td>...</td>\n",
       "      <td>19.86</td>\n",
       "      <td>50.16</td>\n",
       "      <td>48.58</td>\n",
       "      <td>71.60</td>\n",
       "      <td>91.08</td>\n",
       "      <td>7.6</td>\n",
       "      <td>6759.8</td>\n",
       "      <td>1.75</td>\n",
       "      <td>0.0</td>\n",
       "      <td>165.02</td>\n",
       "    </tr>\n",
       "    <tr>\n",
       "      <th>1088</th>\n",
       "      <td>15745</td>\n",
       "      <td>2.46</td>\n",
       "      <td>88.99</td>\n",
       "      <td>9.51</td>\n",
       "      <td>0.91</td>\n",
       "      <td>0.53</td>\n",
       "      <td>14.70</td>\n",
       "      <td>26.17</td>\n",
       "      <td>12.34</td>\n",
       "      <td>9.09</td>\n",
       "      <td>...</td>\n",
       "      <td>2.42</td>\n",
       "      <td>65.79</td>\n",
       "      <td>60.87</td>\n",
       "      <td>94.76</td>\n",
       "      <td>97.23</td>\n",
       "      <td>4.1</td>\n",
       "      <td>3797.3</td>\n",
       "      <td>9.94</td>\n",
       "      <td>0.0</td>\n",
       "      <td>436.49</td>\n",
       "    </tr>\n",
       "  </tbody>\n",
       "</table>\n",
       "<p>1089 rows × 103 columns</p>\n",
       "</div>"
      ],
      "text/plain": [
       "      demo_0  demo_1  demo_2  demo_3  demo_4  demo_5  demo_6  demo_7  demo_8  \\\n",
       "0      11980    3.10    1.37   91.78    6.50    1.88   12.47   21.44   10.93   \n",
       "1      20009    3.22    1.64   92.31    3.18    7.15   13.17   28.71   10.22   \n",
       "2      66049    2.63   26.41   72.45    0.76    0.72   17.79   29.84   18.19   \n",
       "3      11157    2.39    0.29   98.87    0.62    0.61   10.72   22.81   11.00   \n",
       "4      17192    2.69    0.58   97.40    1.07    0.76   14.30   30.82   14.81   \n",
       "...      ...     ...     ...     ...     ...     ...     ...     ...     ...   \n",
       "1084   72411    2.25   28.48   69.97    0.57    5.36    8.76   21.07    9.39   \n",
       "1085   34012    2.14    1.07   98.12    0.43    1.83    9.04   17.98    8.56   \n",
       "1086   12804    2.59    6.09   88.43    4.70    2.83   10.61   21.71    9.93   \n",
       "1087   51266    2.83    0.95   76.55    4.06   33.93   13.94   30.43   14.79   \n",
       "1088   15745    2.46   88.99    9.51    0.91    0.53   14.70   26.17   12.34   \n",
       "\n",
       "      demo_9  ...  demo_93  demo_94  demo_95  demo_96  demo_97  demo_115  \\\n",
       "0      11.33  ...    10.66    53.72    65.29    78.09    89.14       6.5   \n",
       "1       2.18  ...     4.07    61.12    46.58    77.06    89.45       4.2   \n",
       "2      14.33  ...     1.68    70.07    52.60    73.84    86.06      51.2   \n",
       "3      17.50  ...     1.95    84.13    62.88    87.42    93.22       3.0   \n",
       "4       9.56  ...     1.35    76.87    47.00    74.93    92.27       6.8   \n",
       "...      ...  ...      ...      ...      ...      ...      ...       ...   \n",
       "1084   22.29  ...    14.18    26.12    49.14    79.45    84.32      21.1   \n",
       "1085   28.70  ...     7.06    14.70    47.97    73.84    78.16      10.7   \n",
       "1086   14.18  ...     9.25    58.33    69.27    86.32    91.38       2.8   \n",
       "1087    9.63  ...    19.86    50.16    48.58    71.60    91.08       7.6   \n",
       "1088    9.09  ...     2.42    65.79    60.87    94.76    97.23       4.1   \n",
       "\n",
       "      demo_116  demo_117  demo_122  target  \n",
       "0       1845.9      9.63       0.0    8.20  \n",
       "1       4728.0      0.00       0.0   71.99  \n",
       "2       1290.5      3.33       5.8  159.32  \n",
       "3       3726.5      0.90       0.0   24.66  \n",
       "4       2510.4      2.26       0.0   35.62  \n",
       "...        ...       ...       ...     ...  \n",
       "1084    3435.7      3.53      12.6  814.31  \n",
       "1085    3173.9      0.65       0.0   80.79  \n",
       "1086    4511.0     11.91       0.0   91.78  \n",
       "1087    6759.8      1.75       0.0  165.02  \n",
       "1088    3797.3      9.94       0.0  436.49  \n",
       "\n",
       "[1089 rows x 103 columns]"
      ]
     },
     "execution_count": 37,
     "metadata": {},
     "output_type": "execute_result"
    }
   ],
   "source": [
    "data"
   ]
  },
  {
   "cell_type": "code",
   "execution_count": 38,
   "id": "narrative-wonder",
   "metadata": {},
   "outputs": [
    {
     "data": {
      "text/plain": [
       "<AxesSubplot:>"
      ]
     },
     "execution_count": 38,
     "metadata": {},
     "output_type": "execute_result"
    },
    {
     "data": {
      "image/png": "[encoded data removed]",
      "text/plain": [
       "<Figure size 1800x720 with 2 Axes>"
      ]
     },
     "metadata": {
      "needs_background": "light"
     },
     "output_type": "display_data"
    }
   ],
   "source": [
    "msno.matrix(data)"
   ]
  },
  {
   "cell_type": "code",
   "execution_count": 39,
   "id": "norman-balance",
   "metadata": {},
   "outputs": [
    {
     "data": {
      "text/plain": [
       "(1089, 103)"
      ]
     },
     "execution_count": 39,
     "metadata": {},
     "output_type": "execute_result"
    }
   ],
   "source": [
    "data.shape"
   ]
  },
  {
   "cell_type": "code",
   "execution_count": 22,
   "id": "touched-flour",
   "metadata": {},
   "outputs": [],
   "source": [
    "correlation_matrix = data.corr().round(2)\n",
    "plt.figure(figsize = (15,10))\n",
    "sns.heatmap(data=correlation_matrix, annot=True)"
   ]
  },
  {
   "cell_type": "code",
   "execution_count": 23,
   "id": "bottom-durham",
   "metadata": {},
   "outputs": [],
   "source": [
    "data.hist(figsize=(20,20))\n",
    "plt.show()"
   ]
  },
  {
   "cell_type": "code",
   "execution_count": 40,
   "id": "solar-extreme",
   "metadata": {},
   "outputs": [],
   "source": [
    "X = data.loc[:, data.columns != 'target']\n",
    "y = data.loc[:, data.columns == 'target']"
   ]
  },
  {
   "cell_type": "code",
   "execution_count": 133,
   "id": "whole-issue",
   "metadata": {},
   "outputs": [
    {
     "data": {
      "text/plain": [
       "(1089, 102)"
      ]
     },
     "execution_count": 133,
     "metadata": {},
     "output_type": "execute_result"
    }
   ],
   "source": [
    "X.shape"
   ]
  },
  {
   "cell_type": "code",
   "execution_count": 134,
   "id": "given-audio",
   "metadata": {},
   "outputs": [],
   "source": [
    "# Train Test Split\n",
    "X_train, X_test, y_train, y_test = train_test_split(X, y, test_size=0.20, random_state=1)"
   ]
  },
  {
   "cell_type": "code",
   "execution_count": 27,
   "id": "played-label",
   "metadata": {},
   "outputs": [
    {
     "name": "stdout",
     "output_type": "stream",
     "text": [
      "0.7858112939254324\n",
      "0.6620495001284468\n",
      "0.6620495001284468\n"
     ]
    }
   ],
   "source": [
    "Lr = LinearRegression(n_jobs=-1)\n",
    "Lr.fit(X_train,y_train)\n",
    "y_pred = Lr.predict(X_test)\n",
    "print(Lr.score(X_train, y_train))\n",
    "print(Lr.score(X_test, y_test))\n",
    "print(r2_score(y_test, y_pred))\n",
    "\n",
    "with open('test4.pkl', 'rb') as f:\n",
    "    data_test = pickle.load(f)\n",
    "\n",
    "data_test = data_test.replace('missing', np.nan)\n",
    "data_test = data_test.dropna(axis=1)\n",
    "test_pred_final = Lr.predict(data_test)\n",
    "res = pd.DataFrame({'Predicted': test_pred_final[:, 0]})\n",
    "res.index.name = 'Id'\n",
    "res.to_csv('lr.csv')"
   ]
  },
  {
   "cell_type": "code",
   "execution_count": 28,
   "id": "combined-mission",
   "metadata": {},
   "outputs": [
    {
     "name": "stdout",
     "output_type": "stream",
     "text": [
      "0.678616895623292\n",
      "{'n_components': 20}\n",
      "0.7788512294189984\n",
      "0.6569816144955133\n",
      "0.6569816144955133\n"
     ]
    }
   ],
   "source": [
    "param_grid = [{'n_components': range(10,101,10)}]\n",
    "\n",
    "pls = PLSRegression()\n",
    "\n",
    "gs = GridSearchCV(estimator=pls, \n",
    "                  param_grid=param_grid, \n",
    "                  scoring='r2', \n",
    "                  cv=10,\n",
    "                  n_jobs=-1)\n",
    "gs = gs.fit(X_train, y_train)\n",
    "print(gs.best_score_)\n",
    "print(gs.best_params_)\n",
    "\n",
    "\n",
    "classifier = gs.best_estimator_\n",
    "classifier.fit(X_train, y_train)\n",
    "y_pred = classifier.predict(X_test)\n",
    "print(classifier.score(X_train, y_train))\n",
    "print(classifier.score(X_test, y_test))\n",
    "print(r2_score(y_test, y_pred))"
   ]
  },
  {
   "cell_type": "code",
   "execution_count": 29,
   "id": "sound-tournament",
   "metadata": {},
   "outputs": [
    {
     "name": "stdout",
     "output_type": "stream",
     "text": [
      "0.6906300310415239\n",
      "{'alpha': 0.1, 'fit_intercept': True, 'normalize': True}\n",
      "0.7545612035918081\n",
      "0.6691513472473668\n",
      "0.6691513472473668\n"
     ]
    }
   ],
   "source": [
    "param_range = [0.00001, 0.0001, 0.001, 0.01, 0.1, 1.0,10.0,100.0,1000.0]\n",
    "#param_range2 = [0.0, 0.1, 0.25, 0.5, 0.75, 0.9, 1.0]\n",
    "param_grid = [{'alpha': param_range, 'normalize': [True,False],'fit_intercept': [True,False]}]\n",
    "ridge = Ridge()\n",
    "\n",
    "gs = GridSearchCV(estimator=ridge, \n",
    "                  param_grid=param_grid, \n",
    "                  scoring='r2', \n",
    "                  cv=5,\n",
    "                  n_jobs=-1)\n",
    "gs = gs.fit(X_train, y_train)\n",
    "print(gs.best_score_)\n",
    "print(gs.best_params_)\n",
    "\n",
    "classifier = gs.best_estimator_\n",
    "classifier.fit(X_train, y_train)\n",
    "y_pred = classifier.predict(X_test)\n",
    "print(classifier.score(X_train, y_train))\n",
    "print(classifier.score(X_test, y_test))\n",
    "print(r2_score(y_test, y_pred))"
   ]
  },
  {
   "cell_type": "code",
   "execution_count": 31,
   "id": "instructional-terrain",
   "metadata": {},
   "outputs": [
    {
     "name": "stdout",
     "output_type": "stream",
     "text": [
      "0.6914550502618259\n",
      "{'alpha': 0.1, 'fit_intercept': True, 'max_iter': 1000, 'normalize': True, 'selection': 'cyclic', 'tol': 0.01}\n",
      "0.731213011791995\n",
      "0.6647268219524383\n",
      "0.6647268219524383\n"
     ]
    }
   ],
   "source": [
    "\n",
    "alpha =  [0.00001, 0.0001, 0.001, 0.01, 0.1, 1.0,10.0,100.0,1000.0]\n",
    "tol =  [0.00001, 0.0001, 0.001, 0.01, 0.1, 1.0,10.0,100.0,1000.0]\n",
    "selections = ['cyclic','random']\n",
    "param_grid = [{'alpha': alpha, 'tol': tol, 'max_iter':range(1000,3000,1000), 'normalize': [True,False],'selection': selections, 'fit_intercept': [True,False]}]\n",
    "lsso = Lasso()\n",
    "\n",
    "gs = GridSearchCV(estimator=lsso, \n",
    "                  param_grid=param_grid, \n",
    "                  scoring='r2', \n",
    "                  cv=5,\n",
    "                  n_jobs=-1)\n",
    "gs = gs.fit(X_train, y_train)\n",
    "print(gs.best_score_)\n",
    "print(gs.best_params_)\n",
    "\n",
    "classifier = gs.best_estimator_\n",
    "classifier.fit(X_train, y_train)\n",
    "y_pred = classifier.predict(X_test)\n",
    "print(classifier.score(X_train, y_train))\n",
    "print(classifier.score(X_test, y_test))\n",
    "print(r2_score(y_test, y_pred))"
   ]
  },
  {
   "cell_type": "code",
   "execution_count": 34,
   "id": "attractive-agriculture",
   "metadata": {},
   "outputs": [
    {
     "name": "stdout",
     "output_type": "stream",
     "text": [
      "0.6924051109335518\n",
      "{'alpha': 0.001, 'fit_intercept': True, 'l1_ratio': 0.7, 'max_iter': 1000, 'normalize': True, 'selection': 'cyclic', 'tol': 0.1}\n",
      "0.7386246351834933\n",
      "0.6646985794620696\n",
      "0.6646985794620696\n"
     ]
    },
    {
     "name": "stderr",
     "output_type": "stream",
     "text": [
      "C:\\Users\\malik\\miniconda3\\envs\\dat200\\lib\\site-packages\\sklearn\\model_selection\\_search.py:813: RuntimeWarning: invalid value encountered in subtract\n",
      "  array_stds = np.sqrt(np.average((array -\n"
     ]
    }
   ],
   "source": [
    "\n",
    "alpha =  [0.00001, 0.0001, 0.001, 0.01, 0.1, 1.0,10.0,100.0,1000.0]\n",
    "tol =  [0.00001, 0.0001, 0.001, 0.01, 0.1, 1.0,10.0,100.0,1000.0]\n",
    "l1= np.arange(0.0,1.1,0.05).round(2)\n",
    "selections = ['cyclic','random']\n",
    "param_grid = [{'alpha': alpha, 'tol': tol,'l1_ratio':l1, 'max_iter':range(1000,3000,1000), 'normalize': [True,False],'selection': selections,'fit_intercept': [True,False]}]\n",
    "enet = ElasticNet()\n",
    "\n",
    "gs = GridSearchCV(estimator=enet, \n",
    "                  param_grid=param_grid, \n",
    "                  scoring='r2', \n",
    "                  cv=5,\n",
    "                  n_jobs=-1)\n",
    "gs = gs.fit(X_train, y_train)\n",
    "print(gs.best_score_)\n",
    "print(gs.best_params_)\n",
    "\n",
    "classifier = gs.best_estimator_\n",
    "classifier.fit(X_train, y_train)\n",
    "y_pred = classifier.predict(X_test)\n",
    "print(classifier.score(X_train, y_train))\n",
    "print(classifier.score(X_test, y_test))\n",
    "print(r2_score(y_test, y_pred))"
   ]
  },
  {
   "cell_type": "code",
   "execution_count": 36,
   "id": "naval-patrick",
   "metadata": {},
   "outputs": [
    {
     "name": "stdout",
     "output_type": "stream",
     "text": [
      "0.7386246351834933\n",
      "0.6646985794620696\n",
      "0.6646985794620696\n"
     ]
    }
   ],
   "source": [
    "best_elastic = ElasticNet(alpha= 0.001, fit_intercept= True, l1_ratio= 0.7, max_iter= 1000, normalize= True, selection= 'cyclic', tol= 0.1)\n",
    "best_elastic.fit(X_train, y_train)\n",
    "y_pred = best_elastic.predict(X_test)\n",
    "print(best_elastic.score(X_train, y_train))\n",
    "print(best_elastic.score(X_test, y_test))\n",
    "print(r2_score(y_test, y_pred))"
   ]
  },
  {
   "cell_type": "code",
   "execution_count": 37,
   "id": "played-speaking",
   "metadata": {},
   "outputs": [
    {
     "name": "stdout",
     "output_type": "stream",
     "text": [
      "0.7545612035918081\n",
      "0.6691513472473668\n",
      "0.6691513472473668\n"
     ]
    }
   ],
   "source": [
    "best_ridge = Ridge(alpha = 0.1, fit_intercept = True, normalize = True)\n",
    "best_ridge.fit(X_train, y_train)\n",
    "y_pred = best_ridge.predict(X_test)\n",
    "print(best_ridge.score(X_train, y_train))\n",
    "print(best_ridge.score(X_test, y_test))\n",
    "print(r2_score(y_test, y_pred))"
   ]
  },
  {
   "cell_type": "code",
   "execution_count": 38,
   "id": "interested-secretary",
   "metadata": {},
   "outputs": [
    {
     "name": "stdout",
     "output_type": "stream",
     "text": [
      "0.744330233836132\n",
      "0.748196465209936\n",
      "0.7225430128456269\n",
      "0.7225430128456269\n"
     ]
    }
   ],
   "source": [
    "best_ridge = Ridge(alpha = 0.1, fit_intercept = True, normalize = True)\n",
    "best_ridge.fit(X, y)\n",
    "y_pred = best_ridge.predict(X_test)\n",
    "print(best_ridge.score(X, y))\n",
    "print(best_ridge.score(X_train, y_train))\n",
    "print(best_ridge.score(X_test, y_test))\n",
    "print(r2_score(y_test, y_pred))"
   ]
  },
  {
   "cell_type": "code",
   "execution_count": 40,
   "id": "reported-intersection",
   "metadata": {},
   "outputs": [],
   "source": [
    "with open('test4.pkl', 'rb') as f:\n",
    "    data_test = pickle.load(f)\n",
    "\n",
    "data_test = data_test.replace('missing', np.nan)\n",
    "data_test = data_test.dropna(axis=1)\n",
    "test_pred_final = best_ridge.predict(data_test)\n",
    "res = pd.DataFrame({'Predicted': test_pred_final[:, 0]})\n",
    "res.index.name = 'Id'\n",
    "res.to_csv('best_ridge.csv')"
   ]
  },
  {
   "cell_type": "code",
   "execution_count": 41,
   "id": "closed-berlin",
   "metadata": {},
   "outputs": [
    {
     "name": "stdout",
     "output_type": "stream",
     "text": [
      "Best accuracy score: 0.72\n",
      "Best subset (indices): (0, 2, 6, 7, 9, 10, 11, 12, 16, 17, 19, 27, 29, 30, 32, 33, 38, 39, 43, 44, 46, 48, 49, 50, 52, 55, 60, 61, 62, 66, 67, 68, 73, 74, 76, 77, 79, 80, 81, 83, 84, 88, 89, 90, 91, 93, 101)\n",
      "Best subset (corresponding names): ('demo_0', 'demo_2', 'demo_6', 'demo_7', 'demo_9', 'demo_10', 'demo_11', 'demo_12', 'demo_16', 'demo_17', 'demo_19', 'demo_27', 'demo_29', 'demo_30', 'demo_32', 'demo_33', 'demo_38', 'demo_39', 'demo_43', 'demo_44', 'demo_46', 'demo_48', 'demo_49', 'demo_50', 'demo_52', 'demo_55', 'demo_60', 'demo_61', 'demo_62', 'demo_66', 'demo_67', 'demo_68', 'demo_73', 'demo_74', 'demo_76', 'demo_77', 'demo_79', 'demo_80', 'demo_81', 'demo_83', 'demo_84', 'demo_88', 'demo_89', 'demo_90', 'demo_91', 'demo_93', 'demo_122')\n"
     ]
    }
   ],
   "source": [
    "lr = LinearRegression()\n",
    "rf = Ridge(alpha = 0.1, fit_intercept = True, normalize = True)\n",
    "\n",
    "# Create an SFS object\n",
    "sfs = SFS(estimator=rf,       \n",
    "          k_features=(1, 102),\n",
    "          forward=True,    \n",
    "          scoring='r2',\n",
    "          cv=5)\n",
    "\n",
    "sfs = sfs.fit(X,y)\n",
    "\n",
    "   # Print the results\n",
    "print('Best accuracy score: %.2f' % sfs.k_score_)   # k_score_ shows the best score \n",
    "print('Best subset (indices):', sfs.k_feature_idx_) # k_feature_idx_ shows the index of features \n",
    "                                                    # that yield the best score\n",
    "print('Best subset (corresponding names):', sfs.k_feature_names_) # k_feature_names_ shows the feature names \n",
    "                                                                  # that yield the best score"
   ]
  },
  {
   "cell_type": "code",
   "execution_count": 42,
   "id": "backed-martin",
   "metadata": {},
   "outputs": [
    {
     "data": {
      "text/plain": [
       "47"
      ]
     },
     "execution_count": 42,
     "metadata": {},
     "output_type": "execute_result"
    }
   ],
   "source": [
    "len(sfs.k_feature_idx_)"
   ]
  },
  {
   "cell_type": "code",
   "execution_count": 44,
   "id": "strange-catch",
   "metadata": {},
   "outputs": [],
   "source": [
    "# Train Test Split\n",
    "X = sfs.transform(X)\n",
    "X_train, X_test, y_train, y_test = train_test_split(X, y, test_size=0.20, random_state=110)"
   ]
  },
  {
   "cell_type": "code",
   "execution_count": 141,
   "id": "pointed-drunk",
   "metadata": {},
   "outputs": [],
   "source": [
    "# classifier = gs.best_estimator_\n",
    "# classifier.fit(X_train, y_train)"
   ]
  },
  {
   "cell_type": "code",
   "execution_count": 45,
   "id": "revised-market",
   "metadata": {},
   "outputs": [
    {
     "name": "stdout",
     "output_type": "stream",
     "text": [
      "0.745857136728137\n",
      "0.6875664022799992\n",
      "0.6875664022799992\n"
     ]
    }
   ],
   "source": [
    "best_ridge = Ridge(alpha = 0.1, fit_intercept = True, normalize = True,random_state=1)\n",
    "best_ridge.fit(X_train, y_train)\n",
    "y_pred = best_ridge.predict(X_test)\n",
    "#print(best_ridge.score(X, y))\n",
    "print(best_ridge.score(X_train, y_train))\n",
    "print(best_ridge.score(X_test, y_test))\n",
    "print(r2_score(y_test, y_pred))"
   ]
  },
  {
   "cell_type": "code",
   "execution_count": 143,
   "id": "subject-pierce",
   "metadata": {},
   "outputs": [],
   "source": [
    "with open('test4.pkl', 'rb') as f:\n",
    "    data_test = pickle.load(f)\n",
    "\n",
    "data_test = data_test.replace('missing', np.nan)\n",
    "data_test = data_test.dropna(axis=1)\n",
    "data_test = sfs.transform(data_test)\n",
    "test_pred_final = best_ridge.predict(data_test)\n",
    "res = pd.DataFrame({'Predicted': test_pred_final[:, 0]})\n",
    "res.index.name = 'Id'\n",
    "res.to_csv('best_ridge.csv')"
   ]
  },
  {
   "cell_type": "code",
   "execution_count": 46,
   "id": "tired-nomination",
   "metadata": {},
   "outputs": [
    {
     "name": "stdout",
     "output_type": "stream",
     "text": [
      "0.729437040641081\n",
      "0.6769906269333944\n",
      "0.6769906269333944\n"
     ]
    }
   ],
   "source": [
    "best_elastic = ElasticNet(alpha= 0.001, fit_intercept= True, l1_ratio= 0.7, max_iter= 1000, normalize= True, selection= 'cyclic', tol= 0.1)\n",
    "best_elastic.fit(X_train, y_train)\n",
    "y_pred = best_elastic.predict(X_test)\n",
    "print(best_elastic.score(X_train, y_train))\n",
    "print(best_elastic.score(X_test, y_test))\n",
    "print(r2_score(y_test, y_pred))"
   ]
  },
  {
   "cell_type": "code",
   "execution_count": 145,
   "id": "loose-muslim",
   "metadata": {},
   "outputs": [],
   "source": [
    "with open('test4.pkl', 'rb') as f:\n",
    "    data_test = pickle.load(f)\n",
    "\n",
    "data_test = data_test.replace('missing', np.nan)\n",
    "data_test = data_test.dropna(axis=1)\n",
    "data_test = sfs.transform(data_test)\n",
    "test_pred_final = best_elastic.predict(data_test)\n",
    "res = pd.DataFrame({'Predicted': test_pred_final})\n",
    "res.index.name = 'Id'\n",
    "res.to_csv('best_elastic.csv')"
   ]
  },
  {
   "cell_type": "code",
   "execution_count": 48,
   "id": "proprietary-linux",
   "metadata": {},
   "outputs": [
    {
     "name": "stdout",
     "output_type": "stream",
     "text": [
      "0.7266737726125283\n",
      "0.6595363462591215\n",
      "0.6595363462591215\n"
     ]
    }
   ],
   "source": [
    "best_lasso = Lasso(alpha = 0.1, fit_intercept = True, max_iter= 1000, normalize= True, selection= 'cyclic', tol= 0.01)\n",
    "best_lasso.fit(X_train, y_train)\n",
    "y_pred = best_lasso.predict(X_test)\n",
    "print(best_lasso.score(X_train, y_train))\n",
    "print(best_lasso.score(X_test, y_test))\n",
    "print(r2_score(y_test, y_pred))"
   ]
  },
  {
   "cell_type": "code",
   "execution_count": 52,
   "id": "honest-warren",
   "metadata": {},
   "outputs": [
    {
     "name": "stdout",
     "output_type": "stream",
     "text": [
      "0.7417333011106597\n",
      "0.6774287759030011\n",
      "0.6774287759030011\n"
     ]
    }
   ],
   "source": [
    "simple_pipeline = make_pipeline(Ridge(alpha = 0.1, fit_intercept = True, normalize = True))\n",
    "simple_pipeline.fit(X_train, y_train)\n",
    "y_pred = simple_pipeline.predict(X_test)\n",
    "print(simple_pipeline.score(X_train, y_train))\n",
    "print(simple_pipeline.score(X_test, y_test))\n",
    "print(r2_score(y_test, y_pred))"
   ]
  },
  {
   "cell_type": "code",
   "execution_count": 146,
   "id": "sunset-boring",
   "metadata": {},
   "outputs": [],
   "source": [
    "with open('train4.pkl', 'rb') as f:\n",
    "    data = pickle.load(f)"
   ]
  },
  {
   "cell_type": "code",
   "execution_count": 147,
   "id": "scientific-portugal",
   "metadata": {},
   "outputs": [],
   "source": [
    "data = data.replace('missing', np.nan)\n",
    "data = data.dropna(axis=1,thresh = 930)\n",
    "data['demo_25'] = (data['demo_25'] !='n').astype(int)\n",
    "data['demo_25'].fillna(data['demo_25'].mean(), inplace = True)"
   ]
  },
  {
   "cell_type": "code",
   "execution_count": 150,
   "id": "organizational-excitement",
   "metadata": {},
   "outputs": [],
   "source": [
    "X = data.loc[:, data.columns != 'target']\n",
    "y = data.loc[:, data.columns == 'target']"
   ]
  },
  {
   "cell_type": "code",
   "execution_count": 90,
   "id": "critical-president",
   "metadata": {},
   "outputs": [
    {
     "data": {
      "image/png": "[encoded data removed]",
      "text/plain": [
       "<Figure size 432x288 with 1 Axes>"
      ]
     },
     "metadata": {
      "needs_background": "light"
     },
     "output_type": "display_data"
    },
    {
     "name": "stdout",
     "output_type": "stream",
     "text": [
      "[14.88657046 14.98699197 24.76725726 29.77404222 36.92230001 41.10872096\n",
      " 43.11849732 43.73941702 46.49405173 48.61512818 48.94727351 50.16996239\n",
      " 49.20802186 51.40322114 51.70917872 52.30137201 53.8610752  53.97631044\n",
      " 54.16461509 53.28213438 57.91952585 56.2033431  59.11962844 62.55876788\n",
      " 63.56917838 62.96099475 64.85675838 64.37959444 65.59117002 66.4578822\n",
      " 66.5425409  66.97060647 67.13546177 67.31700732 67.44974349 67.63218002\n",
      " 67.62076886 67.82121469 68.14412463 67.97073622 68.01764683 68.10075449\n",
      " 68.3281154  68.42775882 68.54650021 68.34518973 68.34780139 68.32784828\n",
      " 68.40094745 68.42081344 68.50754477 68.58865307 68.53237223 68.49516805\n",
      " 68.46764207 68.4593255  68.43831954 68.42677658 68.47287831 68.39572379\n",
      " 68.40106172 68.39594346 68.30608413 68.264921   68.25459272 68.41038158\n",
      " 68.32548275 68.23679015 68.2077743  68.09277395 68.08910314 68.08367502\n",
      " 68.16758934 68.26896439 68.29665149 68.46556872 68.48784998 68.56315518\n",
      " 68.60384893 68.63065105 68.61125135 68.58434784 68.46306895 68.36872106\n",
      " 68.29958843 68.26235982 68.25956895 68.3349269  68.35591985 68.41168181\n",
      " 68.40095701 68.35155088 68.46619571 68.46650875 68.46465325 68.42459663\n",
      " 68.39155974 68.36641168 68.35993219]\n"
     ]
    }
   ],
   "source": [
    "from sklearn.cross_decomposition import PLSRegression\n",
    "from sklearn.pipeline import make_pipeline\n",
    "from sklearn.model_selection import validation_curve\n",
    "\n",
    "pls = PLSRegression(scale=False)\n",
    "\n",
    "# Validation curve for parameter estimation\n",
    "param_range = list(range(1,100))\n",
    "train_scores, test_scores = validation_curve(\n",
    "                estimator=pls, \n",
    "                X=X, \n",
    "                y=y, \n",
    "                param_name='n_components', # The paramter to vary\n",
    "                param_range=param_range,   # ... and its values\n",
    "                cv=10)\n",
    "\n",
    "# Calculate validation curves for training and test sets\n",
    "train_mean = np.mean(train_scores, axis=1)*100\n",
    "train_std = np.std(train_scores, axis=1)*100\n",
    "test_mean = np.mean(test_scores, axis=1)*100\n",
    "test_std = np.std(test_scores, axis=1)*100\n",
    "\n",
    "plt.plot(param_range, train_mean, \n",
    "         color='blue', marker='o', \n",
    "         markersize=5, label='training accuracy')\n",
    "\n",
    "plt.fill_between(param_range, train_mean + train_std,\n",
    "                 train_mean - train_std, alpha=0.15,\n",
    "                 color='blue')\n",
    "\n",
    "plt.plot(param_range, test_mean, \n",
    "         color='green', linestyle='--', \n",
    "         marker='s', markersize=5, \n",
    "         label='validation accuracy')\n",
    "\n",
    "plt.fill_between(param_range, \n",
    "                 test_mean + test_std,\n",
    "                 test_mean - test_std, \n",
    "                 alpha=0.15, color='green')\n",
    "\n",
    "plt.grid()\n",
    "plt.legend(loc='lower right')\n",
    "plt.xlabel('#components')\n",
    "plt.ylabel('Accuracy')\n",
    "plt.ylim([-5, 110.0])\n",
    "plt.tight_layout()\n",
    "plt.grid()\n",
    "plt.show()\n",
    "print(test_mean)"
   ]
  },
  {
   "cell_type": "code",
   "execution_count": 50,
   "id": "narrative-truth",
   "metadata": {},
   "outputs": [
    {
     "data": {
      "text/plain": [
       "{'memory': None,\n",
       " 'steps': [('plsregressionwrapper', PLSRegressionWrapper()),\n",
       "  ('ridge', Ridge(alpha=0.1, normalize=True))],\n",
       " 'verbose': False,\n",
       " 'plsregressionwrapper': PLSRegressionWrapper(),\n",
       " 'ridge': Ridge(alpha=0.1, normalize=True),\n",
       " 'plsregressionwrapper__copy': True,\n",
       " 'plsregressionwrapper__max_iter': 500,\n",
       " 'plsregressionwrapper__n_components': 2,\n",
       " 'plsregressionwrapper__scale': True,\n",
       " 'plsregressionwrapper__tol': 1e-06,\n",
       " 'ridge__alpha': 0.1,\n",
       " 'ridge__copy_X': True,\n",
       " 'ridge__fit_intercept': True,\n",
       " 'ridge__max_iter': None,\n",
       " 'ridge__normalize': True,\n",
       " 'ridge__random_state': None,\n",
       " 'ridge__solver': 'auto',\n",
       " 'ridge__tol': 0.001}"
      ]
     },
     "execution_count": 50,
     "metadata": {},
     "output_type": "execute_result"
    }
   ],
   "source": [
    "class PLSRegressionWrapper(PLSRegression):\n",
    "\n",
    "    def transform(self, X):\n",
    "        return super().transform(X)\n",
    "\n",
    "    def fit_transform(self, X, Y):\n",
    "        return self.fit(X,Y).transform(X) # Only use X for transform when both X and Y are supplied\n",
    "compression_pipe = make_pipeline(PLSRegressionWrapper(), Ridge(alpha = 0.1, fit_intercept = True, normalize = True))\n",
    "compression_pipe.get_params()"
   ]
  },
  {
   "cell_type": "code",
   "execution_count": 53,
   "id": "divided-boating",
   "metadata": {},
   "outputs": [
    {
     "name": "stdout",
     "output_type": "stream",
     "text": [
      "0.7135476469447141\n",
      "{'plsregressionwrapper__n_components': 20}\n"
     ]
    }
   ],
   "source": [
    "\n",
    "    \n",
    "# my_pipe = make_pipeline(SimpleImputer(),PLSRegressionWrapper(n_components=100, scale=False), classifier)\n",
    "# my_pipe.fit(X,y)\n",
    "# print(my_pipe.score(X, y))\n",
    "# hh = my_pipe.predict(X)\n",
    "# print(y_pred = my_pipe.predict(X_test))\n",
    "# print(r2_score(y_test, y_pred))\n",
    "# make_submission(my_pipe,'pipe.csv')\n",
    "\n",
    "\n",
    "# param_range = [0.00001, 0.0001, 0.001, 0.01, 0.1, 1.0,10.0,100.0,1000.0]\n",
    "# param_range2 = np.arange(0.0,1.1,0.05).round(2)\n",
    "# strategies = ['mean', 'median', 'most_frequent', 'constant']\n",
    "# algorithms = ['nipals', 'svd']\n",
    "# selections= ['cyclic', 'random']\n",
    "\n",
    "#boolens = [True,False]\n",
    "\n",
    "# param_grid = [{'elasticnet__alpha': param_range, 'elasticnet__l1_ratio': param_range2, 'simpleimputer__strategy':strategies,\n",
    "#               'elasticnet__selection':selections,'plsregressionwrapper__scale':boolens, 'elasticnet__normalize': boolens, 'elasticnet__precompute': boolens,\n",
    "#                'plsregressionwrapper__n_components':range(10,121,5)}]\n",
    "\n",
    "param_grid = [{'plsregressionwrapper__n_components':range(10,45,5)}]\n",
    "\n",
    "\n",
    "gs = GridSearchCV(estimator=compression_pipe, \n",
    "                  param_grid=param_grid, \n",
    "                  scoring='r2', \n",
    "                  cv=5,\n",
    "                  n_jobs=-1)\n",
    "gs = gs.fit(X_train, y_train)\n",
    "print(gs.best_score_)\n",
    "print(gs.best_params_)\n"
   ]
  },
  {
   "cell_type": "code",
   "execution_count": 57,
   "id": "driven-alloy",
   "metadata": {},
   "outputs": [
    {
     "data": {
      "text/plain": [
       "Pipeline(steps=[('plsregressionwrapper', PLSRegressionWrapper(n_components=20)),\n",
       "                ('ridge', Ridge(alpha=0.1, normalize=True))])"
      ]
     },
     "execution_count": 57,
     "metadata": {},
     "output_type": "execute_result"
    }
   ],
   "source": [
    "classifier = gs.best_estimator_\n",
    "classifier.fit(X, y)"
   ]
  },
  {
   "cell_type": "code",
   "execution_count": 58,
   "id": "extreme-jefferson",
   "metadata": {},
   "outputs": [],
   "source": [
    "with open('test4.pkl', 'rb') as f:\n",
    "    data_test = pickle.load(f)\n",
    "\n",
    "data_test = data_test.replace('missing', np.nan)\n",
    "data_test = data_test.dropna(axis=1)\n",
    "data_test=sfs.transform(data_test)\n",
    "test_pred_final = classifier.predict(data_test)\n",
    "res = pd.DataFrame({'Predicted': test_pred_final[:, 0]})\n",
    "res.index.name = 'Id'\n",
    "res.to_csv('compression.csv')"
   ]
  },
  {
   "cell_type": "code",
   "execution_count": 155,
   "id": "metric-transport",
   "metadata": {},
   "outputs": [],
   "source": [
    "from sklearn.decomposition import PCA\n",
    "pca = PCA(n_components=50)\n",
    "pca.fit(X)\n",
    "cum_var = pca.explained_variance_ratio_.cumsum()"
   ]
  },
  {
   "cell_type": "code",
   "execution_count": 156,
   "id": "dynamic-hardware",
   "metadata": {},
   "outputs": [
    {
     "data": {
      "image/png": "[encoded data removed]",
      "text/plain": [
       "<Figure size 864x576 with 1 Axes>"
      ]
     },
     "metadata": {
      "needs_background": "light"
     },
     "output_type": "display_data"
    }
   ],
   "source": [
    "plt.figure(figsize=(12,8))\n",
    "plt.plot(cum_var)\n",
    "plt.xlabel('Num of Components')\n",
    "plt.ylabel('Explained Variance')\n",
    "plt.title('Figure 4: Principle componant analysis (PCA) of data set', fontsize=20)\n",
    "plt.show()"
   ]
  },
  {
   "cell_type": "code",
   "execution_count": 172,
   "id": "posted-shipping",
   "metadata": {},
   "outputs": [
    {
     "data": {
      "text/plain": [
       "{'memory': None,\n",
       " 'steps': [('pca', PCA(n_components=10)),\n",
       "  ('ridge', Ridge(alpha=0.1, normalize=True))],\n",
       " 'verbose': False,\n",
       " 'pca': PCA(n_components=10),\n",
       " 'ridge': Ridge(alpha=0.1, normalize=True),\n",
       " 'pca__copy': True,\n",
       " 'pca__iterated_power': 'auto',\n",
       " 'pca__n_components': 10,\n",
       " 'pca__random_state': None,\n",
       " 'pca__svd_solver': 'auto',\n",
       " 'pca__tol': 0.0,\n",
       " 'pca__whiten': False,\n",
       " 'ridge__alpha': 0.1,\n",
       " 'ridge__copy_X': True,\n",
       " 'ridge__fit_intercept': True,\n",
       " 'ridge__max_iter': None,\n",
       " 'ridge__normalize': True,\n",
       " 'ridge__random_state': None,\n",
       " 'ridge__solver': 'auto',\n",
       " 'ridge__tol': 0.001}"
      ]
     },
     "execution_count": 172,
     "metadata": {},
     "output_type": "execute_result"
    }
   ],
   "source": [
    "pca_pipe = make_pipeline(PCA(n_components=50), Ridge(alpha = 0.1, fit_intercept = True, normalize = True))\n",
    "pca_pipe.get_params()"
   ]
  },
  {
   "cell_type": "code",
   "execution_count": 173,
   "id": "russian-canal",
   "metadata": {},
   "outputs": [
    {
     "name": "stdout",
     "output_type": "stream",
     "text": [
      "0.32246419078000876\n",
      "0.32246419078000876\n",
      "0.32246419078000876\n"
     ]
    }
   ],
   "source": [
    "pca_pipe.fit(X,y)\n",
    "y_pred = pca_pipe.predict(X)\n",
    "print(pca_pipe.score(X, y))\n",
    "print(pca_pipe.score(X, y))\n",
    "print(r2_score(y, y_pred))"
   ]
  },
  {
   "cell_type": "code",
   "execution_count": 168,
   "id": "portable-rebate",
   "metadata": {},
   "outputs": [],
   "source": [
    "with open('test4.pkl', 'rb') as f:\n",
    "    data_test = pickle.load(f)\n",
    "\n",
    "data_test = data_test.replace('missing', np.nan)\n",
    "data_test = data_test.dropna(axis=1)\n",
    "test_pred_final = pca_pipe.predict(data_test)\n",
    "res = pd.DataFrame({'Predicted': test_pred_final[:, 0]})\n",
    "res.index.name = 'Id'\n",
    "res.to_csv('compression_pca.csv')"
   ]
  },
  {
   "cell_type": "code",
   "execution_count": 175,
   "id": "premier-kruger",
   "metadata": {},
   "outputs": [],
   "source": [
    "from sklearn.ensemble import AdaBoostRegressor\n",
    "regr = AdaBoostRegressor(random_state=0, n_estimators=100)"
   ]
  },
  {
   "cell_type": "code",
   "execution_count": 176,
   "id": "buried-threshold",
   "metadata": {},
   "outputs": [
    {
     "name": "stderr",
     "output_type": "stream",
     "text": [
      "C:\\Users\\malik\\miniconda3\\envs\\dat200\\lib\\site-packages\\sklearn\\utils\\validation.py:72: DataConversionWarning: A column-vector y was passed when a 1d array was expected. Please change the shape of y to (n_samples, ), for example using ravel().\n",
      "  return f(**kwargs)\n"
     ]
    },
    {
     "data": {
      "text/plain": [
       "AdaBoostRegressor(n_estimators=100, random_state=0)"
      ]
     },
     "execution_count": 176,
     "metadata": {},
     "output_type": "execute_result"
    }
   ],
   "source": [
    "regr.fit(X,y)"
   ]
  },
  {
   "cell_type": "code",
   "execution_count": 177,
   "id": "intended-technical",
   "metadata": {},
   "outputs": [
    {
     "data": {
      "text/plain": [
       "0.601594918090345"
      ]
     },
     "execution_count": 177,
     "metadata": {},
     "output_type": "execute_result"
    }
   ],
   "source": [
    "regr.score(X,y)"
   ]
  },
  {
   "cell_type": "code",
   "execution_count": 186,
   "id": "north-enzyme",
   "metadata": {},
   "outputs": [
    {
     "name": "stderr",
     "output_type": "stream",
     "text": [
      "C:\\Users\\malik\\miniconda3\\envs\\dat200\\lib\\site-packages\\sklearn\\utils\\validation.py:72: DataConversionWarning: A column-vector y was passed when a 1d array was expected. Please change the shape of y to (n_samples, ), for example using ravel().\n",
      "  return f(**kwargs)\n"
     ]
    },
    {
     "name": "stdout",
     "output_type": "stream",
     "text": [
      "0.7121290324521108\n",
      "{'learning_rate': 0.001, 'loss': 'exponential', 'n_estimators': 50}\n"
     ]
    },
    {
     "name": "stderr",
     "output_type": "stream",
     "text": [
      "C:\\Users\\malik\\miniconda3\\envs\\dat200\\lib\\site-packages\\sklearn\\utils\\validation.py:72: DataConversionWarning: A column-vector y was passed when a 1d array was expected. Please change the shape of y to (n_samples, ), for example using ravel().\n",
      "  return f(**kwargs)\n"
     ]
    },
    {
     "name": "stdout",
     "output_type": "stream",
     "text": [
      "0.7458402802708011\n",
      "0.6900174261133765\n",
      "0.6900174261133765\n"
     ]
    }
   ],
   "source": [
    "learning_rate =  [0.00001, 0.0001, 0.001, 0.01, 0.1, 1.0,10.0,100.0,1000.0]\n",
    "\n",
    "losses = ['linear','square','exponential']\n",
    "param_grid = [{'n_estimators':range(50,151,50), 'learning_rate':learning_rate,'loss': losses}]\n",
    "abr = AdaBoostRegressor(base_estimator = Ridge(alpha = 0.1, fit_intercept = True, normalize = True))\n",
    "\n",
    "gs = GridSearchCV(estimator=abr, \n",
    "                  param_grid=param_grid, \n",
    "                  scoring='r2', \n",
    "                  cv=5,\n",
    "                  n_jobs=-1)\n",
    "gs = gs.fit(X_train, y_train)\n",
    "print(gs.best_score_)\n",
    "print(gs.best_params_)\n",
    "\n",
    "classifier = gs.best_estimator_\n",
    "classifier.fit(X_train, y_train)\n",
    "y_pred = classifier.predict(X_test)\n",
    "print(classifier.score(X_train, y_train))\n",
    "print(classifier.score(X_test, y_test))\n",
    "print(r2_score(y_test, y_pred))"
   ]
  },
  {
   "cell_type": "code",
   "execution_count": 189,
   "id": "fantastic-america",
   "metadata": {},
   "outputs": [],
   "source": [
    "with open('test4.pkl', 'rb') as f:\n",
    "    data_test = pickle.load(f)\n",
    "\n",
    "data_test = data_test.replace('missing', np.nan)\n",
    "data_test = data_test.dropna(axis=1)\n",
    "data_test = sfs.transform(data_test)\n",
    "test_pred_final = classifier.predict(data_test)\n",
    "res = pd.DataFrame({'Predicted': test_pred_final})\n",
    "res.index.name = 'Id'\n",
    "res.to_csv('adaboost.csv')"
   ]
  },
  {
   "cell_type": "code",
   "execution_count": 193,
   "id": "separate-conclusion",
   "metadata": {},
   "outputs": [
    {
     "name": "stdout",
     "output_type": "stream",
     "text": [
      "For Random Forrest With Grid Search\n",
      "Grid Search Best Search:\n",
      "0.6757312189845273 {'criterion': 'mse', 'n_estimators': 100}\n"
     ]
    },
    {
     "data": {
      "text/plain": [
       "RandomForestRegressor()"
      ]
     },
     "execution_count": 193,
     "metadata": {},
     "output_type": "execute_result"
    }
   ],
   "source": [
    "from sklearn.ensemble import RandomForestRegressor\n",
    "estimator = RandomForestRegressor()\n",
    "para_grids = {\n",
    "            \"n_estimators\" : range(50,501,50),\n",
    "            \"criterion\" : ['mse', 'mae']\n",
    "        }\n",
    "grid = GridSearchCV(estimator, para_grids, scoring = 'r2',cv=5,n_jobs=-1)\n",
    "grid.fit(X_train, y_train.values.ravel())\n",
    "print (\"For Random Forrest With Grid Search\")\n",
    "print (\"Grid Search Best Search:\")\n",
    "print (grid.best_score_, grid.best_params_)\n",
    "\n",
    "classifier = grid.best_estimator_\n",
    "classifier.fit(X_train, y_train.values.ravel())"
   ]
  },
  {
   "cell_type": "code",
   "execution_count": 194,
   "id": "artistic-national",
   "metadata": {},
   "outputs": [
    {
     "name": "stdout",
     "output_type": "stream",
     "text": [
      "0.9574785162885455\n",
      "0.6498581883179013\n",
      "0.6498581883179013\n"
     ]
    }
   ],
   "source": [
    "y_pred = classifier.predict(X_test)\n",
    "print(classifier.score(X_train, y_train))\n",
    "print(classifier.score(X_test, y_test))\n",
    "print(r2_score(y_test, y_pred))"
   ]
  },
  {
   "cell_type": "code",
   "execution_count": null,
   "id": "descending-hypothetical",
   "metadata": {},
   "outputs": [],
   "source": []
  }
 ],
 "metadata": {
  "kernelspec": {
   "display_name": "Python 3",
   "language": "python",
   "name": "python3"
  },
  "language_info": {
   "codemirror_mode": {
    "name": "ipython",
    "version": 3
   },
   "file_extension": ".py",
   "mimetype": "text/x-python",
   "name": "python",
   "nbconvert_exporter": "python",
   "pygments_lexer": "ipython3",
   "version": "3.8.5"
  }
 },
 "nbformat": 4,
 "nbformat_minor": 5
}
